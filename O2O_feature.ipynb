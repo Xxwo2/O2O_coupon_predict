{
  "nbformat": 4,
  "nbformat_minor": 0,
  "metadata": {
    "colab": {
      "name": "O2O_feature.ipynb",
      "version": "0.3.2",
      "provenance": [],
      "collapsed_sections": [
        "EO3e8RcEgmb2",
        "WTFf3imAkc5x"
      ],
      "include_colab_link": true
    },
    "kernelspec": {
      "name": "python3",
      "display_name": "Python 3"
    }
  },
  "cells": [
    {
      "cell_type": "markdown",
      "metadata": {
        "id": "view-in-github",
        "colab_type": "text"
      },
      "source": [
        "<a href=\"https://colab.research.google.com/github/Xxwo2/O2O_coupon_predict/blob/master/O2O_feature.ipynb\" target=\"_parent\"><img src=\"https://colab.research.google.com/assets/colab-badge.svg\" alt=\"Open In Colab\"/></a>"
      ]
    },
    {
      "cell_type": "markdown",
      "metadata": {
        "id": "du8R9O84xp9b",
        "colab_type": "text"
      },
      "source": [
        "- ref :https://github.com/Xxwo2/O2O-Coupon-Usage-Forecast/blob/master/code/wepon/season%20one/extract_feature.py"
      ]
    },
    {
      "cell_type": "code",
      "metadata": {
        "id": "yd00C91dAb-5",
        "colab_type": "code",
        "outputId": "184adf2e-f075-45ef-98be-4208d2242b49",
        "colab": {
          "base_uri": "https://localhost:8080/",
          "height": 130
        }
      },
      "source": [
        "from google.colab import drive\n",
        "drive.mount('/content/gdrive')"
      ],
      "execution_count": 0,
      "outputs": [
        {
          "output_type": "stream",
          "text": [
            "Go to this URL in a browser: https://accounts.google.com/o/oauth2/auth?client_id=947318989803-6bn6qk8qdgf4n4g3pfee6491hc0brc4i.apps.googleusercontent.com&redirect_uri=urn%3Aietf%3Awg%3Aoauth%3A2.0%3Aoob&scope=email%20https%3A%2F%2Fwww.googleapis.com%2Fauth%2Fdocs.test%20https%3A%2F%2Fwww.googleapis.com%2Fauth%2Fdrive%20https%3A%2F%2Fwww.googleapis.com%2Fauth%2Fdrive.photos.readonly%20https%3A%2F%2Fwww.googleapis.com%2Fauth%2Fpeopleapi.readonly&response_type=code\n",
            "\n",
            "Enter your authorization code:\n",
            "··········\n",
            "Mounted at /content/gdrive\n"
          ],
          "name": "stdout"
        }
      ]
    },
    {
      "cell_type": "code",
      "metadata": {
        "id": "llHjefu6R7NO",
        "colab_type": "code",
        "outputId": "e6c30853-0993-4767-994e-385604bf90a7",
        "colab": {
          "base_uri": "https://localhost:8080/",
          "height": 73
        }
      },
      "source": [
        "! ls /content/gdrive/My\\ Drive/O2O_data"
      ],
      "execution_count": 0,
      "outputs": [
        {
          "output_type": "stream",
          "text": [
            "ccf_offline_stage1_test_revised.csv  coupon_feature3.csv    other_feature3.csv\n",
            "ccf_offline_stage1_train.csv\t     merchant_feature3.csv  user_feature3.csv\n",
            "ccf_online_stage1_train.csv\t     O2O_feature.ipynb\n"
          ],
          "name": "stdout"
        }
      ]
    },
    {
      "cell_type": "code",
      "metadata": {
        "id": "W3GpiHg_S29Y",
        "colab_type": "code",
        "colab": {}
      },
      "source": [
        "import pandas as pd\n",
        "import numpy as np\n",
        "from datetime import date"
      ],
      "execution_count": 0,
      "outputs": []
    },
    {
      "cell_type": "code",
      "metadata": {
        "id": "Zh4H7WqWyRFU",
        "colab_type": "code",
        "colab": {}
      },
      "source": [
        "off_train = pd.read_csv('/content/gdrive/My Drive/O2O_data/ccf_offline_stage1_train.csv', header=None)\n",
        "off_test = pd.read_csv('/content/gdrive/My Drive/O2O_data/ccf_offline_stage1_test_revised.csv', header=None)\n",
        "on_train = pd.read_csv('/content/gdrive/My Drive/O2O_data/ccf_online_stage1_train.csv', header=None)"
      ],
      "execution_count": 0,
      "outputs": []
    },
    {
      "cell_type": "code",
      "metadata": {
        "id": "xYSg9WWGzWCv",
        "colab_type": "code",
        "outputId": "7d794370-1790-4adf-a9f1-1071e21ad768",
        "colab": {
          "base_uri": "https://localhost:8080/",
          "height": 226
        }
      },
      "source": [
        "off_train.head()"
      ],
      "execution_count": 0,
      "outputs": [
        {
          "output_type": "execute_result",
          "data": {
            "text/html": [
              "<div>\n",
              "<style scoped>\n",
              "    .dataframe tbody tr th:only-of-type {\n",
              "        vertical-align: middle;\n",
              "    }\n",
              "\n",
              "    .dataframe tbody tr th {\n",
              "        vertical-align: top;\n",
              "    }\n",
              "\n",
              "    .dataframe thead th {\n",
              "        text-align: right;\n",
              "    }\n",
              "</style>\n",
              "<table border=\"1\" class=\"dataframe\">\n",
              "  <thead>\n",
              "    <tr style=\"text-align: right;\">\n",
              "      <th></th>\n",
              "      <th>0</th>\n",
              "      <th>1</th>\n",
              "      <th>2</th>\n",
              "      <th>3</th>\n",
              "      <th>4</th>\n",
              "      <th>5</th>\n",
              "      <th>6</th>\n",
              "    </tr>\n",
              "  </thead>\n",
              "  <tbody>\n",
              "    <tr>\n",
              "      <th>0</th>\n",
              "      <td>1439408</td>\n",
              "      <td>2632</td>\n",
              "      <td>NaN</td>\n",
              "      <td>NaN</td>\n",
              "      <td>0.0</td>\n",
              "      <td>NaN</td>\n",
              "      <td>20160217.0</td>\n",
              "    </tr>\n",
              "    <tr>\n",
              "      <th>1</th>\n",
              "      <td>1439408</td>\n",
              "      <td>4663</td>\n",
              "      <td>11002.0</td>\n",
              "      <td>150:20</td>\n",
              "      <td>1.0</td>\n",
              "      <td>20160528.0</td>\n",
              "      <td>NaN</td>\n",
              "    </tr>\n",
              "    <tr>\n",
              "      <th>2</th>\n",
              "      <td>1439408</td>\n",
              "      <td>2632</td>\n",
              "      <td>8591.0</td>\n",
              "      <td>20:1</td>\n",
              "      <td>0.0</td>\n",
              "      <td>20160217.0</td>\n",
              "      <td>NaN</td>\n",
              "    </tr>\n",
              "    <tr>\n",
              "      <th>3</th>\n",
              "      <td>1439408</td>\n",
              "      <td>2632</td>\n",
              "      <td>1078.0</td>\n",
              "      <td>20:1</td>\n",
              "      <td>0.0</td>\n",
              "      <td>20160319.0</td>\n",
              "      <td>NaN</td>\n",
              "    </tr>\n",
              "    <tr>\n",
              "      <th>4</th>\n",
              "      <td>1439408</td>\n",
              "      <td>2632</td>\n",
              "      <td>8591.0</td>\n",
              "      <td>20:1</td>\n",
              "      <td>0.0</td>\n",
              "      <td>20160613.0</td>\n",
              "      <td>NaN</td>\n",
              "    </tr>\n",
              "  </tbody>\n",
              "</table>\n",
              "</div>"
            ],
            "text/plain": [
              "         0     1        2       3    4           5           6\n",
              "0  1439408  2632      NaN     NaN  0.0         NaN  20160217.0\n",
              "1  1439408  4663  11002.0  150:20  1.0  20160528.0         NaN\n",
              "2  1439408  2632   8591.0    20:1  0.0  20160217.0         NaN\n",
              "3  1439408  2632   1078.0    20:1  0.0  20160319.0         NaN\n",
              "4  1439408  2632   8591.0    20:1  0.0  20160613.0         NaN"
            ]
          },
          "metadata": {
            "tags": []
          },
          "execution_count": 6
        }
      ]
    },
    {
      "cell_type": "code",
      "metadata": {
        "id": "521LO56fzOel",
        "colab_type": "code",
        "outputId": "1b8dc9ba-58b7-44a8-b689-eba530b9d12e",
        "colab": {
          "base_uri": "https://localhost:8080/",
          "height": 148
        }
      },
      "source": [
        "['user_id', 'merchant_id', 'coupon_id', 'discount_rate', 'distance', 'date_received', 'date']"
      ],
      "execution_count": 0,
      "outputs": [
        {
          "output_type": "execute_result",
          "data": {
            "text/plain": [
              "['user_id',\n",
              " 'merchant_id',\n",
              " 'coupon_id',\n",
              " 'discount_rate',\n",
              " 'distance',\n",
              " 'date_received',\n",
              " 'date']"
            ]
          },
          "metadata": {
            "tags": []
          },
          "execution_count": 7
        }
      ]
    },
    {
      "cell_type": "code",
      "metadata": {
        "id": "tB34jNk00X1p",
        "colab_type": "code",
        "colab": {}
      },
      "source": [
        "off_train.columns =['user_id', 'merchant_id', 'coupon_id', 'discount_rate', 'distance', 'date_received', 'date']\n",
        "off_test.columns = ['user_id', 'merchant_id', 'coupon_id', 'discount_rate', 'distance', 'date_received']\n",
        "on_train.columns = ['user_id', 'merchant_id', 'coupon_id', 'discount_rate', 'distance', 'date_received', 'date']"
      ],
      "execution_count": 0,
      "outputs": []
    },
    {
      "cell_type": "markdown",
      "metadata": {
        "id": "P_JrCxDU1uAR",
        "colab_type": "text"
      },
      "source": [
        "### data split\n",
        "\n",
        "- not knowing why split dataset like this"
      ]
    },
    {
      "cell_type": "code",
      "metadata": {
        "id": "JEc0bz0j0eQ7",
        "colab_type": "code",
        "outputId": "f60c9dab-6307-467c-b5b3-d4bba3341ef2",
        "colab": {
          "base_uri": "https://localhost:8080/",
          "height": 74
        }
      },
      "source": [
        "dataset3 = off_test\n",
        "feature3 = off_train[((off_train.date>=20160315)&(off_train.date<=20160630))|((off_train.date=='null')&(off_train.date_received>=20160315)&(off_train.date_received<=20160630))]\n",
        "dataset2 = off_train[(off_train.date_received>=20160515)&(off_train.date_received<=20160615)]\n",
        "feature2 = off_train[((off_train.date>=20160201)&(off_train.date<=20160514))|((off_train.date=='null')&(off_train.date_received>=20160201)&(off_train.date_received<=20160514))]\n",
        "dataset1 = off_train[(off_train.date_received>=20160414)&(off_train.date_received<=20160514)]\n",
        "feature1 = off_train[((off_train.date>=20160101)&(off_train.date<=20160413))|((off_train.date=='null')&(off_train.date_received>=20160101)&(off_train.date_received<=20160413))]\n"
      ],
      "execution_count": 0,
      "outputs": [
        {
          "output_type": "stream",
          "text": [
            "/usr/local/lib/python3.6/dist-packages/pandas/core/ops.py:1649: FutureWarning: elementwise comparison failed; returning scalar instead, but in the future will perform elementwise comparison\n",
            "  result = method(y)\n"
          ],
          "name": "stderr"
        }
      ]
    },
    {
      "cell_type": "markdown",
      "metadata": {
        "id": "_p9sAiiiqpI1",
        "colab_type": "text"
      },
      "source": [
        "## for dataset3"
      ]
    },
    {
      "cell_type": "markdown",
      "metadata": {
        "id": "af5XD6APrUSR",
        "colab_type": "text"
      },
      "source": [
        "### other feature"
      ]
    },
    {
      "cell_type": "code",
      "metadata": {
        "id": "Ss9y8cQc4Cwc",
        "colab_type": "code",
        "outputId": "0322ebdd-c9e2-4e21-8387-008629fb0b97",
        "colab": {
          "base_uri": "https://localhost:8080/",
          "height": 149
        }
      },
      "source": [
        "t = dataset3[['user_id']]\n",
        "t['this_month_user_receive_all_coupon'] = 1"
      ],
      "execution_count": 0,
      "outputs": [
        {
          "output_type": "stream",
          "text": [
            "/usr/local/lib/python3.6/dist-packages/ipykernel_launcher.py:2: SettingWithCopyWarning: \n",
            "A value is trying to be set on a copy of a slice from a DataFrame.\n",
            "Try using .loc[row_indexer,col_indexer] = value instead\n",
            "\n",
            "See the caveats in the documentation: http://pandas.pydata.org/pandas-docs/stable/indexing.html#indexing-view-versus-copy\n",
            "  \n"
          ],
          "name": "stderr"
        }
      ]
    },
    {
      "cell_type": "code",
      "metadata": {
        "id": "SIJz18dvqJAe",
        "colab_type": "code",
        "colab": {}
      },
      "source": [
        "t = t.groupby('user_id').agg('sum').reset_index()"
      ],
      "execution_count": 0,
      "outputs": []
    },
    {
      "cell_type": "code",
      "metadata": {
        "id": "elMNkX_tqU4d",
        "colab_type": "code",
        "outputId": "dbf66c61-e089-42c6-dc34-67c3a7e379d5",
        "colab": {
          "base_uri": "https://localhost:8080/",
          "height": 149
        }
      },
      "source": [
        "t1 = dataset3[['user_id', 'coupon_id']]\n",
        "t1['this_month_user_recieve_same_coupon_count'] = 1\n",
        "t1 = t1.groupby(['user_id','coupon_id']).agg('sum').reset_index()"
      ],
      "execution_count": 0,
      "outputs": [
        {
          "output_type": "stream",
          "text": [
            "/usr/local/lib/python3.6/dist-packages/ipykernel_launcher.py:2: SettingWithCopyWarning: \n",
            "A value is trying to be set on a copy of a slice from a DataFrame.\n",
            "Try using .loc[row_indexer,col_indexer] = value instead\n",
            "\n",
            "See the caveats in the documentation: http://pandas.pydata.org/pandas-docs/stable/indexing.html#indexing-view-versus-copy\n",
            "  \n"
          ],
          "name": "stderr"
        }
      ]
    },
    {
      "cell_type": "code",
      "metadata": {
        "id": "UXUBa2bEsDfo",
        "colab_type": "code",
        "outputId": "ab98d261-aaf7-41b1-fec3-2beea510ab7d",
        "colab": {
          "base_uri": "https://localhost:8080/",
          "height": 129
        }
      },
      "source": [
        "dataset3.date_received.head()"
      ],
      "execution_count": 0,
      "outputs": [
        {
          "output_type": "execute_result",
          "data": {
            "text/plain": [
              "0    20160712\n",
              "1    20160706\n",
              "2    20160727\n",
              "3    20160727\n",
              "4    20160708\n",
              "Name: date_received, dtype: int64"
            ]
          },
          "metadata": {
            "tags": []
          },
          "execution_count": 13
        }
      ]
    },
    {
      "cell_type": "code",
      "metadata": {
        "id": "B_jSRV21qulA",
        "colab_type": "code",
        "outputId": "98cb6daa-dc62-4a8e-af41-045fc4105b52",
        "colab": {
          "base_uri": "https://localhost:8080/",
          "height": 149
        }
      },
      "source": [
        "t2 = dataset3[['user_id','coupon_id', 'date_received']]\n",
        "t2.date_received = t2.date_received.astype('str')\n",
        "t2 = t2.groupby(['user_id','coupon_id'])['date_received'].agg(lambda x: ':'.join(x)).reset_index() #把多个收到日期用\":\"连起来\n",
        "t2['receive_number'] = t2.date_received.apply(lambda s : len(s.split(':'))) #把收到的优惠券日期变成列表，并计算列表长度\n",
        "t2 = t2[t2.receive_number>1] #直接用判断公式做筛选\n",
        "t2['max_date_received'] = t2.date_received.apply(lambda x: max(x.split(':')))\n",
        "t2['min_date_received'] = t2.date_received.apply(lambda x: min(x.split(':')))\n",
        "t2 = t2[['user_id', 'coupon_id', 'max_date_received','min_date_received']]"
      ],
      "execution_count": 0,
      "outputs": [
        {
          "output_type": "stream",
          "text": [
            "/usr/local/lib/python3.6/dist-packages/pandas/core/generic.py:5096: SettingWithCopyWarning: \n",
            "A value is trying to be set on a copy of a slice from a DataFrame.\n",
            "Try using .loc[row_indexer,col_indexer] = value instead\n",
            "\n",
            "See the caveats in the documentation: http://pandas.pydata.org/pandas-docs/stable/indexing.html#indexing-view-versus-copy\n",
            "  self[name] = value\n"
          ],
          "name": "stderr"
        }
      ]
    },
    {
      "cell_type": "markdown",
      "metadata": {
        "id": "BLB-OmmVI-mE",
        "colab_type": "text"
      },
      "source": [
        "#### # t3 \n",
        "计算用户拿到特定优惠券最早和最晚的日期\n",
        "user received same coupon first time and last time date."
      ]
    },
    {
      "cell_type": "code",
      "metadata": {
        "id": "KuTYz_rhsnrG",
        "colab_type": "code",
        "colab": {}
      },
      "source": [
        "t3 = dataset3[['user_id', 'coupon_id','date_received']]\n",
        "t3 = pd.merge(t3, t2, on=['user_id', 'coupon_id'], how='left')\n",
        "t3['this_month_user_receive_same_coupon_lastone'] = t3.max_date_received.fillna(0).astype('int64') - t3.date_received.fillna(0).astype('int64')\n",
        "t3['this_month_user_receive_same_coupon_firstone'] = t3.date_received.fillna(0).astype('int64') - t3.min_date_received.fillna(0).astype('int64')"
      ],
      "execution_count": 0,
      "outputs": []
    },
    {
      "cell_type": "code",
      "metadata": {
        "id": "PvTxAl_WFG3p",
        "colab_type": "code",
        "colab": {}
      },
      "source": [
        "def is_firstonelastone(x):\n",
        "  if x == 0:\n",
        "    return 1\n",
        "  elif x >0:\n",
        "    return 0\n",
        "  else:\n",
        "    return -1"
      ],
      "execution_count": 0,
      "outputs": []
    },
    {
      "cell_type": "code",
      "metadata": {
        "id": "evjZ_R_bFUnl",
        "colab_type": "code",
        "colab": {}
      },
      "source": [
        "t3.this_month_user_receive_same_coupon_lastone = t3.this_month_user_receive_same_coupon_lastone.apply(is_firstonelastone)\n",
        "t3.this_month_user_receive_same_coupon_firstone = t3.this_month_user_receive_same_coupon_firstone.apply(is_firstonelastone)"
      ],
      "execution_count": 0,
      "outputs": []
    },
    {
      "cell_type": "code",
      "metadata": {
        "id": "InJPlXdkIUaJ",
        "colab_type": "code",
        "colab": {}
      },
      "source": [
        "t3 = t3[['user_id','coupon_id','date_received','this_month_user_receive_same_coupon_lastone','this_month_user_receive_same_coupon_firstone']]\n"
      ],
      "execution_count": 0,
      "outputs": []
    },
    {
      "cell_type": "markdown",
      "metadata": {
        "id": "TOL9cMPOJCGy",
        "colab_type": "text"
      },
      "source": [
        "#####  t4\n",
        "\n",
        "计算用户当天拿到多少总优惠券\n"
      ]
    },
    {
      "cell_type": "code",
      "metadata": {
        "id": "tnX8NanSIyyf",
        "colab_type": "code",
        "outputId": "bad9f9d2-b0db-4a05-f2d1-3a4bc655728f",
        "colab": {
          "base_uri": "https://localhost:8080/",
          "height": 149
        }
      },
      "source": [
        "t4 = dataset3[['user_id', 'date_received']]\n",
        "t4['this_day_user_receive_all_coupon_count'] = 1\n",
        "#t4 = \n",
        "t4 = t4.groupby(['user_id','date_received']).agg('sum').reset_index()\n"
      ],
      "execution_count": 0,
      "outputs": [
        {
          "output_type": "stream",
          "text": [
            "/usr/local/lib/python3.6/dist-packages/ipykernel_launcher.py:2: SettingWithCopyWarning: \n",
            "A value is trying to be set on a copy of a slice from a DataFrame.\n",
            "Try using .loc[row_indexer,col_indexer] = value instead\n",
            "\n",
            "See the caveats in the documentation: http://pandas.pydata.org/pandas-docs/stable/indexing.html#indexing-view-versus-copy\n",
            "  \n"
          ],
          "name": "stderr"
        }
      ]
    },
    {
      "cell_type": "markdown",
      "metadata": {
        "id": "zSSixSKzramb",
        "colab_type": "text"
      },
      "source": [
        "##### t5\n",
        "\n",
        "计算用户当天拿到多少相同的优惠券"
      ]
    },
    {
      "cell_type": "code",
      "metadata": {
        "id": "l4maZ_CQI7FC",
        "colab_type": "code",
        "outputId": "599b2a87-e8d6-48cb-ae9d-701286c0a5b4",
        "colab": {
          "base_uri": "https://localhost:8080/",
          "height": 149
        }
      },
      "source": [
        "t5 = dataset3[['user_id', 'coupon_id', 'date_received']]\n",
        "t5['this_day_user_receive_same_coupon_count'] = 1\n",
        "t5 = t5.groupby(['user_id', 'coupon_id', 'date_received']).agg('sum').reset_index()"
      ],
      "execution_count": 0,
      "outputs": [
        {
          "output_type": "stream",
          "text": [
            "/usr/local/lib/python3.6/dist-packages/ipykernel_launcher.py:2: SettingWithCopyWarning: \n",
            "A value is trying to be set on a copy of a slice from a DataFrame.\n",
            "Try using .loc[row_indexer,col_indexer] = value instead\n",
            "\n",
            "See the caveats in the documentation: http://pandas.pydata.org/pandas-docs/stable/indexing.html#indexing-view-versus-copy\n",
            "  \n"
          ],
          "name": "stderr"
        }
      ]
    },
    {
      "cell_type": "markdown",
      "metadata": {
        "id": "fbQBbsqIsBp0",
        "colab_type": "text"
      },
      "source": [
        "##### t6\n",
        "把各个优惠券收到的所有日期都放在同一个字段里"
      ]
    },
    {
      "cell_type": "code",
      "metadata": {
        "id": "TQMl9jqvr8YB",
        "colab_type": "code",
        "outputId": "0e00c30e-9d33-43ff-f497-88dbe4fa8796",
        "colab": {
          "base_uri": "https://localhost:8080/",
          "height": 149
        }
      },
      "source": [
        "t6 = dataset3[['user_id', 'coupon_id', 'date_received']]\n",
        "t6.date_received = t6.date_received.astype('str')\n",
        "t6 = t6.groupby(['user_id', 'coupon_id'])['date_received'].agg(lambda x: ':'.join(x)).reset_index()\n",
        "t6.rename(columns={'date_received':'dates'},inplace=True)"
      ],
      "execution_count": 0,
      "outputs": [
        {
          "output_type": "stream",
          "text": [
            "/usr/local/lib/python3.6/dist-packages/pandas/core/generic.py:5096: SettingWithCopyWarning: \n",
            "A value is trying to be set on a copy of a slice from a DataFrame.\n",
            "Try using .loc[row_indexer,col_indexer] = value instead\n",
            "\n",
            "See the caveats in the documentation: http://pandas.pydata.org/pandas-docs/stable/indexing.html#indexing-view-versus-copy\n",
            "  self[name] = value\n"
          ],
          "name": "stderr"
        }
      ]
    },
    {
      "cell_type": "markdown",
      "metadata": {
        "id": "G7j9gEgO0GTt",
        "colab_type": "text"
      },
      "source": [
        "##### t7\n",
        "\n",
        "用户收到特定优惠券的时间差\n",
        "\n",
        "get_day_gap_before = 收到日期 - 每个收到日期\n",
        "get_day_gap_after = 每个收到日期-收到日期"
      ]
    },
    {
      "cell_type": "code",
      "metadata": {
        "id": "8_lqftEAzjof",
        "colab_type": "code",
        "colab": {}
      },
      "source": [
        "t7 = dataset3[['user_id', 'coupon_id', 'date_received']]\n",
        "t7 = pd.merge(t7,t6,on = ['user_id', 'coupon_id'] , how='left')\n",
        "t7 ['date_received_date'] = t7.date_received.astype('str')+'-'+t7.dates"
      ],
      "execution_count": 0,
      "outputs": []
    },
    {
      "cell_type": "code",
      "metadata": {
        "id": "Tl9zmov71UEC",
        "colab_type": "code",
        "colab": {}
      },
      "source": [
        "def get_day_gap_before(s):\n",
        "  date_received, dates = s.split('-')\n",
        "  dates = dates.split(':')\n",
        "  gaps = []\n",
        "  \n",
        "  for d in dates:\n",
        "    this_gap = (date(int(date_received[0:4]),int(date_received[4:6]),int(date_received[6:8])) - date(int(d[0:4]),int(d[4:6]),int(d[6:8]))).days\n",
        "    if this_gap >0:\n",
        "      gaps.append(this_gap)\n",
        "  \n",
        "  if len(gaps)==0:\n",
        "    return -1\n",
        "  else:\n",
        "    return min(gaps)\n",
        "  "
      ],
      "execution_count": 0,
      "outputs": []
    },
    {
      "cell_type": "code",
      "metadata": {
        "id": "VTyywkIk1VAc",
        "colab_type": "code",
        "colab": {}
      },
      "source": [
        "def get_day_gap_after(s):\n",
        "  date_received, dates = s.split('-')\n",
        "  dates = dates.split(':')\n",
        "  gaps = []\n",
        "  \n",
        "  for d in dates:\n",
        "    this_gap = (date(int(d[0:4]),int(d[4:6]),int(d[6:8]))-date(int(date_received[0:4]),int(date_received[4:6]),int(date_received[6:8]))).days\n",
        "    if this_gap >0:\n",
        "      gaps.append(this_gap)\n",
        "  \n",
        "  if len(gaps)==0:\n",
        "    return -1\n",
        "  else:\n",
        "    return min(gaps)\n",
        "    "
      ],
      "execution_count": 0,
      "outputs": []
    },
    {
      "cell_type": "code",
      "metadata": {
        "id": "g1q3cZ2R5AGJ",
        "colab_type": "code",
        "colab": {}
      },
      "source": [
        "t7['day_gap_before'] = t7.date_received_date.apply(get_day_gap_before)"
      ],
      "execution_count": 0,
      "outputs": []
    },
    {
      "cell_type": "code",
      "metadata": {
        "id": "9xmwrin65VmX",
        "colab_type": "code",
        "colab": {}
      },
      "source": [
        "t7['day_gap_after'] = t7.date_received_date.apply(get_day_gap_after)"
      ],
      "execution_count": 0,
      "outputs": []
    },
    {
      "cell_type": "code",
      "metadata": {
        "id": "0QrqST5y5eVu",
        "colab_type": "code",
        "colab": {}
      },
      "source": [
        "t7 = t7[['user_id', 'coupon_id', 'date_received','day_gap_before', 'day_gap_after']]"
      ],
      "execution_count": 0,
      "outputs": []
    },
    {
      "cell_type": "markdown",
      "metadata": {
        "id": "NJywpCoXfhkt",
        "colab_type": "text"
      },
      "source": [
        "##### make them all together"
      ]
    },
    {
      "cell_type": "markdown",
      "metadata": {
        "id": "uyLJBLS8hmjS",
        "colab_type": "text"
      },
      "source": [
        "other_feature = 用户总当月总优惠券(t) + 用户当月收到相同优惠券数量(t1)"
      ]
    },
    {
      "cell_type": "code",
      "metadata": {
        "id": "CBFc3i4NfbGS",
        "colab_type": "code",
        "colab": {}
      },
      "source": [
        "other_feature3 = pd.merge(t1,t,on = 'user_id') \n"
      ],
      "execution_count": 0,
      "outputs": []
    },
    {
      "cell_type": "code",
      "metadata": {
        "id": "yr2vxFD4fVZ3",
        "colab_type": "code",
        "outputId": "1d174171-eabd-455a-9012-19061b989fa2",
        "colab": {
          "base_uri": "https://localhost:8080/",
          "height": 246
        }
      },
      "source": [
        "other_feature3.head()"
      ],
      "execution_count": 0,
      "outputs": [
        {
          "output_type": "execute_result",
          "data": {
            "text/html": [
              "<div>\n",
              "<style scoped>\n",
              "    .dataframe tbody tr th:only-of-type {\n",
              "        vertical-align: middle;\n",
              "    }\n",
              "\n",
              "    .dataframe tbody tr th {\n",
              "        vertical-align: top;\n",
              "    }\n",
              "\n",
              "    .dataframe thead th {\n",
              "        text-align: right;\n",
              "    }\n",
              "</style>\n",
              "<table border=\"1\" class=\"dataframe\">\n",
              "  <thead>\n",
              "    <tr style=\"text-align: right;\">\n",
              "      <th></th>\n",
              "      <th>user_id</th>\n",
              "      <th>coupon_id</th>\n",
              "      <th>this_month_user_recieve_same_coupon_count</th>\n",
              "      <th>this_month_user_receive_all_coupon</th>\n",
              "    </tr>\n",
              "  </thead>\n",
              "  <tbody>\n",
              "    <tr>\n",
              "      <th>0</th>\n",
              "      <td>209</td>\n",
              "      <td>825</td>\n",
              "      <td>1</td>\n",
              "      <td>2</td>\n",
              "    </tr>\n",
              "    <tr>\n",
              "      <th>1</th>\n",
              "      <td>209</td>\n",
              "      <td>7557</td>\n",
              "      <td>1</td>\n",
              "      <td>2</td>\n",
              "    </tr>\n",
              "    <tr>\n",
              "      <th>2</th>\n",
              "      <td>215</td>\n",
              "      <td>5488</td>\n",
              "      <td>1</td>\n",
              "      <td>1</td>\n",
              "    </tr>\n",
              "    <tr>\n",
              "      <th>3</th>\n",
              "      <td>316</td>\n",
              "      <td>3992</td>\n",
              "      <td>1</td>\n",
              "      <td>1</td>\n",
              "    </tr>\n",
              "    <tr>\n",
              "      <th>4</th>\n",
              "      <td>417</td>\n",
              "      <td>12465</td>\n",
              "      <td>1</td>\n",
              "      <td>1</td>\n",
              "    </tr>\n",
              "  </tbody>\n",
              "</table>\n",
              "</div>"
            ],
            "text/plain": [
              "   user_id  ...  this_month_user_receive_all_coupon\n",
              "0      209  ...                                   2\n",
              "1      209  ...                                   2\n",
              "2      215  ...                                   1\n",
              "3      316  ...                                   1\n",
              "4      417  ...                                   1\n",
              "\n",
              "[5 rows x 4 columns]"
            ]
          },
          "metadata": {
            "tags": []
          },
          "execution_count": 35
        }
      ]
    },
    {
      "cell_type": "markdown",
      "metadata": {
        "id": "UoE1Wrp8h0tt",
        "colab_type": "text"
      },
      "source": [
        "other_feature = 用户总当月总优惠券(t) + 用户当月收到相同优惠券数量(t1) + 第一次（最后一次）收到优惠券的日期(t3) "
      ]
    },
    {
      "cell_type": "code",
      "metadata": {
        "id": "ntTNrft4hLPN",
        "colab_type": "code",
        "colab": {}
      },
      "source": [
        "other_feature3 = pd.merge(other_feature3, t3, on = ['user_id','coupon_id'])"
      ],
      "execution_count": 0,
      "outputs": []
    },
    {
      "cell_type": "code",
      "metadata": {
        "id": "x7Lj1xoSiorO",
        "colab_type": "code",
        "outputId": "f13daf4f-2df2-4759-e0a3-e63b612cb046",
        "colab": {
          "base_uri": "https://localhost:8080/",
          "height": 246
        }
      },
      "source": [
        "other_feature3.head()"
      ],
      "execution_count": 0,
      "outputs": [
        {
          "output_type": "execute_result",
          "data": {
            "text/html": [
              "<div>\n",
              "<style scoped>\n",
              "    .dataframe tbody tr th:only-of-type {\n",
              "        vertical-align: middle;\n",
              "    }\n",
              "\n",
              "    .dataframe tbody tr th {\n",
              "        vertical-align: top;\n",
              "    }\n",
              "\n",
              "    .dataframe thead th {\n",
              "        text-align: right;\n",
              "    }\n",
              "</style>\n",
              "<table border=\"1\" class=\"dataframe\">\n",
              "  <thead>\n",
              "    <tr style=\"text-align: right;\">\n",
              "      <th></th>\n",
              "      <th>user_id</th>\n",
              "      <th>coupon_id</th>\n",
              "      <th>this_month_user_recieve_same_coupon_count</th>\n",
              "      <th>this_month_user_receive_all_coupon</th>\n",
              "      <th>date_received</th>\n",
              "      <th>this_month_user_receive_same_coupon_lastone</th>\n",
              "      <th>this_month_user_receive_same_coupon_firstone</th>\n",
              "    </tr>\n",
              "  </thead>\n",
              "  <tbody>\n",
              "    <tr>\n",
              "      <th>0</th>\n",
              "      <td>209</td>\n",
              "      <td>825</td>\n",
              "      <td>1</td>\n",
              "      <td>2</td>\n",
              "      <td>20160721</td>\n",
              "      <td>-1</td>\n",
              "      <td>0</td>\n",
              "    </tr>\n",
              "    <tr>\n",
              "      <th>1</th>\n",
              "      <td>209</td>\n",
              "      <td>7557</td>\n",
              "      <td>1</td>\n",
              "      <td>2</td>\n",
              "      <td>20160721</td>\n",
              "      <td>-1</td>\n",
              "      <td>0</td>\n",
              "    </tr>\n",
              "    <tr>\n",
              "      <th>2</th>\n",
              "      <td>215</td>\n",
              "      <td>5488</td>\n",
              "      <td>1</td>\n",
              "      <td>1</td>\n",
              "      <td>20160703</td>\n",
              "      <td>-1</td>\n",
              "      <td>0</td>\n",
              "    </tr>\n",
              "    <tr>\n",
              "      <th>3</th>\n",
              "      <td>316</td>\n",
              "      <td>3992</td>\n",
              "      <td>1</td>\n",
              "      <td>1</td>\n",
              "      <td>20160721</td>\n",
              "      <td>-1</td>\n",
              "      <td>0</td>\n",
              "    </tr>\n",
              "    <tr>\n",
              "      <th>4</th>\n",
              "      <td>417</td>\n",
              "      <td>12465</td>\n",
              "      <td>1</td>\n",
              "      <td>1</td>\n",
              "      <td>20160712</td>\n",
              "      <td>-1</td>\n",
              "      <td>0</td>\n",
              "    </tr>\n",
              "  </tbody>\n",
              "</table>\n",
              "</div>"
            ],
            "text/plain": [
              "   user_id  ...  this_month_user_receive_same_coupon_firstone\n",
              "0      209  ...                                             0\n",
              "1      209  ...                                             0\n",
              "2      215  ...                                             0\n",
              "3      316  ...                                             0\n",
              "4      417  ...                                             0\n",
              "\n",
              "[5 rows x 7 columns]"
            ]
          },
          "metadata": {
            "tags": []
          },
          "execution_count": 37
        }
      ]
    },
    {
      "cell_type": "markdown",
      "metadata": {
        "id": "tCuwcRBMiLUt",
        "colab_type": "text"
      },
      "source": [
        "other_feature = 用户总当月总优惠券(t) + 用户当月收到相同优惠券数量(t1) + 第一次（最后一次）收到优惠券的日期(t3) +用户当天拿到优惠券总数(t4)+用户当天拿到多少相同优惠券(t5)+用户收到特定优惠券的时间差(t7)"
      ]
    },
    {
      "cell_type": "code",
      "metadata": {
        "id": "C1-6drMoiGGJ",
        "colab_type": "code",
        "colab": {}
      },
      "source": [
        "other_feature3 = pd.merge(other_feature3, t4, on = ['user_id','date_received'])\n",
        "other_feature3 = pd.merge(other_feature3, t5, on = ['user_id','coupon_id','date_received'])\n",
        "other_feature3 = pd.merge(other_feature3, t7, on = ['user_id','coupon_id','date_received'])"
      ],
      "execution_count": 0,
      "outputs": []
    },
    {
      "cell_type": "code",
      "metadata": {
        "id": "C89_ACQMkhps",
        "colab_type": "code",
        "outputId": "6cb506c8-685c-4965-aa37-752830d13657",
        "colab": {
          "base_uri": "https://localhost:8080/",
          "height": 36
        }
      },
      "source": [
        "other_feature3.shape"
      ],
      "execution_count": 0,
      "outputs": [
        {
          "output_type": "execute_result",
          "data": {
            "text/plain": [
              "(116204, 11)"
            ]
          },
          "metadata": {
            "tags": []
          },
          "execution_count": 39
        }
      ]
    },
    {
      "cell_type": "code",
      "metadata": {
        "id": "-VXWXsshkp7A",
        "colab_type": "code",
        "colab": {}
      },
      "source": [
        "other_feature3.to_csv('/content/gdrive/My Drive/O2O_data/other_feature3.csv')"
      ],
      "execution_count": 0,
      "outputs": []
    },
    {
      "cell_type": "code",
      "metadata": {
        "id": "RHvt12vtv42A",
        "colab_type": "code",
        "colab": {}
      },
      "source": [
        "other3 = other_feature3"
      ],
      "execution_count": 0,
      "outputs": []
    },
    {
      "cell_type": "markdown",
      "metadata": {
        "id": "IhVw6K2nv7vy",
        "colab_type": "text"
      },
      "source": [
        "### coupon related"
      ]
    },
    {
      "cell_type": "code",
      "metadata": {
        "id": "pUtZiT2dwmQO",
        "colab_type": "code",
        "colab": {}
      },
      "source": [
        "def calc_discount_rate(s):\n",
        "  s = str(s)\n",
        "  s = s.split(':')\n",
        "  if len(s)==1:\n",
        "    return float(s[0])\n",
        "  else:\n",
        "    return 1.0 - float(s[1])/float(s[0])\n",
        "  \n",
        "def get_discount_man(s):\n",
        "  s = str(s)\n",
        "  s = s.split(':')\n",
        "  if len(s)==1:\n",
        "    return 'null'\n",
        "  else:\n",
        "    return int(s[0])\n",
        "  \n",
        "\n",
        "def get_discount_jian(s):\n",
        "  s = str(s)\n",
        "  s = s.split(':')\n",
        "  if len(s)==1:\n",
        "    return 'null'\n",
        "  else:\n",
        "    return int(s[1])\n",
        "  \n",
        "  \n",
        "def is_man_jian(s):\n",
        "  s = str(s)\n",
        "  s = s.split(':')\n",
        "  if len(s)==1:\n",
        "    return 0\n",
        "  else:\n",
        "    return 1"
      ],
      "execution_count": 0,
      "outputs": []
    },
    {
      "cell_type": "code",
      "metadata": {
        "id": "u8HAVGGJwmOK",
        "colab_type": "code",
        "colab": {}
      },
      "source": [
        "t = dataset3\n",
        "t['day_of_week'] = t.date_received.astype('str').apply(lambda x:date(int(x[0:4]),int(x[4:6]),int(x[6:8])).weekday()+1)\n",
        "t['day_of_month'] = t.date_received.astype('str').apply(lambda x:int(x[6:8]))\n",
        "t['days_distance'] = t.date_received.astype('str').apply(lambda x:(date(int(x[0:4]),int(x[4:6]),int(x[6:8]))-date(2016,6,30)).days)\n",
        "                                                        \n",
        "                                                   "
      ],
      "execution_count": 0,
      "outputs": []
    },
    {
      "cell_type": "code",
      "metadata": {
        "id": "QFSrEHKD3YSh",
        "colab_type": "code",
        "colab": {}
      },
      "source": [
        "t['discount_man'] = t.discount_rate.apply(get_discount_man)\n",
        "t['discount_jian'] = t.discount_rate.apply(get_discount_jian)\n",
        "t['is_manjian'] = t.discount_rate.apply(is_man_jian)\n",
        "t['discount_rate'] = t.discount_rate.apply(calc_discount_rate)"
      ],
      "execution_count": 0,
      "outputs": []
    },
    {
      "cell_type": "code",
      "metadata": {
        "id": "IP8XRcmWwmHm",
        "colab_type": "code",
        "outputId": "d3481aef-abb2-46fb-ab9f-cc3dc8eacb3e",
        "colab": {
          "base_uri": "https://localhost:8080/",
          "height": 36
        }
      },
      "source": [
        "t.shape"
      ],
      "execution_count": 0,
      "outputs": [
        {
          "output_type": "execute_result",
          "data": {
            "text/plain": [
              "(113640, 12)"
            ]
          },
          "metadata": {
            "tags": []
          },
          "execution_count": 74
        }
      ]
    },
    {
      "cell_type": "code",
      "metadata": {
        "id": "ryZLBbsowmFO",
        "colab_type": "code",
        "outputId": "0d25deba-11de-4c90-a307-75bae616bf96",
        "colab": {
          "base_uri": "https://localhost:8080/",
          "height": 149
        }
      },
      "source": [
        "d = dataset3[['coupon_id']]\n",
        "d['coupon_count'] = 1\n",
        "d = d.groupby(['coupon_id']).agg('sum').reset_index()\n",
        "\n",
        "\n",
        "t = pd.merge(t,d,on = 'coupon_id', how = 'left')\n"
      ],
      "execution_count": 0,
      "outputs": [
        {
          "output_type": "stream",
          "text": [
            "/usr/local/lib/python3.6/dist-packages/ipykernel_launcher.py:2: SettingWithCopyWarning: \n",
            "A value is trying to be set on a copy of a slice from a DataFrame.\n",
            "Try using .loc[row_indexer,col_indexer] = value instead\n",
            "\n",
            "See the caveats in the documentation: http://pandas.pydata.org/pandas-docs/stable/indexing.html#indexing-view-versus-copy\n",
            "  \n"
          ],
          "name": "stderr"
        }
      ]
    },
    {
      "cell_type": "code",
      "metadata": {
        "id": "8elFMJlhwl96",
        "colab_type": "code",
        "outputId": "5482ee66-582c-4a50-99a6-3d212853eb1e",
        "colab": {
          "base_uri": "https://localhost:8080/",
          "height": 246
        }
      },
      "source": [
        "t.head()"
      ],
      "execution_count": 0,
      "outputs": [
        {
          "output_type": "execute_result",
          "data": {
            "text/html": [
              "<div>\n",
              "<style scoped>\n",
              "    .dataframe tbody tr th:only-of-type {\n",
              "        vertical-align: middle;\n",
              "    }\n",
              "\n",
              "    .dataframe tbody tr th {\n",
              "        vertical-align: top;\n",
              "    }\n",
              "\n",
              "    .dataframe thead th {\n",
              "        text-align: right;\n",
              "    }\n",
              "</style>\n",
              "<table border=\"1\" class=\"dataframe\">\n",
              "  <thead>\n",
              "    <tr style=\"text-align: right;\">\n",
              "      <th></th>\n",
              "      <th>user_id</th>\n",
              "      <th>merchant_id</th>\n",
              "      <th>coupon_id</th>\n",
              "      <th>discount_rate</th>\n",
              "      <th>distance</th>\n",
              "      <th>date_received</th>\n",
              "      <th>day_of_week</th>\n",
              "      <th>day_of_month</th>\n",
              "      <th>days_distance</th>\n",
              "      <th>discount_man</th>\n",
              "      <th>discount_jian</th>\n",
              "      <th>is_manjian</th>\n",
              "      <th>coupon_count</th>\n",
              "    </tr>\n",
              "  </thead>\n",
              "  <tbody>\n",
              "    <tr>\n",
              "      <th>0</th>\n",
              "      <td>4129537</td>\n",
              "      <td>450</td>\n",
              "      <td>9983</td>\n",
              "      <td>0.833333</td>\n",
              "      <td>1.0</td>\n",
              "      <td>20160712</td>\n",
              "      <td>2</td>\n",
              "      <td>12</td>\n",
              "      <td>12</td>\n",
              "      <td>30</td>\n",
              "      <td>5</td>\n",
              "      <td>1</td>\n",
              "      <td>11586</td>\n",
              "    </tr>\n",
              "    <tr>\n",
              "      <th>1</th>\n",
              "      <td>6949378</td>\n",
              "      <td>1300</td>\n",
              "      <td>3429</td>\n",
              "      <td>0.833333</td>\n",
              "      <td>NaN</td>\n",
              "      <td>20160706</td>\n",
              "      <td>3</td>\n",
              "      <td>6</td>\n",
              "      <td>6</td>\n",
              "      <td>30</td>\n",
              "      <td>5</td>\n",
              "      <td>1</td>\n",
              "      <td>4887</td>\n",
              "    </tr>\n",
              "    <tr>\n",
              "      <th>2</th>\n",
              "      <td>2166529</td>\n",
              "      <td>7113</td>\n",
              "      <td>6928</td>\n",
              "      <td>0.900000</td>\n",
              "      <td>5.0</td>\n",
              "      <td>20160727</td>\n",
              "      <td>3</td>\n",
              "      <td>27</td>\n",
              "      <td>27</td>\n",
              "      <td>200</td>\n",
              "      <td>20</td>\n",
              "      <td>1</td>\n",
              "      <td>205</td>\n",
              "    </tr>\n",
              "    <tr>\n",
              "      <th>3</th>\n",
              "      <td>2166529</td>\n",
              "      <td>7113</td>\n",
              "      <td>1808</td>\n",
              "      <td>0.900000</td>\n",
              "      <td>5.0</td>\n",
              "      <td>20160727</td>\n",
              "      <td>3</td>\n",
              "      <td>27</td>\n",
              "      <td>27</td>\n",
              "      <td>100</td>\n",
              "      <td>10</td>\n",
              "      <td>1</td>\n",
              "      <td>205</td>\n",
              "    </tr>\n",
              "    <tr>\n",
              "      <th>4</th>\n",
              "      <td>6172162</td>\n",
              "      <td>7605</td>\n",
              "      <td>6500</td>\n",
              "      <td>0.966667</td>\n",
              "      <td>2.0</td>\n",
              "      <td>20160708</td>\n",
              "      <td>5</td>\n",
              "      <td>8</td>\n",
              "      <td>8</td>\n",
              "      <td>30</td>\n",
              "      <td>1</td>\n",
              "      <td>1</td>\n",
              "      <td>132</td>\n",
              "    </tr>\n",
              "  </tbody>\n",
              "</table>\n",
              "</div>"
            ],
            "text/plain": [
              "   user_id  merchant_id  coupon_id  ...  discount_jian  is_manjian  coupon_count\n",
              "0  4129537          450       9983  ...              5           1         11586\n",
              "1  6949378         1300       3429  ...              5           1          4887\n",
              "2  2166529         7113       6928  ...             20           1           205\n",
              "3  2166529         7113       1808  ...             10           1           205\n",
              "4  6172162         7605       6500  ...              1           1           132\n",
              "\n",
              "[5 rows x 13 columns]"
            ]
          },
          "metadata": {
            "tags": []
          },
          "execution_count": 45
        }
      ]
    },
    {
      "cell_type": "code",
      "metadata": {
        "id": "cxqteG744enM",
        "colab_type": "code",
        "colab": {}
      },
      "source": [
        "t.to_csv('/content/gdrive/My Drive/O2O_data/coupon_feature3.csv')"
      ],
      "execution_count": 0,
      "outputs": []
    },
    {
      "cell_type": "code",
      "metadata": {
        "id": "wU12ZihPLSGW",
        "colab_type": "code",
        "colab": {}
      },
      "source": [
        "coupon3 = t"
      ],
      "execution_count": 0,
      "outputs": []
    },
    {
      "cell_type": "markdown",
      "metadata": {
        "id": "Wh6w1CGx4rzG",
        "colab_type": "text"
      },
      "source": [
        "### merchant related feature"
      ]
    },
    {
      "cell_type": "code",
      "metadata": {
        "id": "-I12tFoD4xH9",
        "colab_type": "code",
        "outputId": "48afc678-ec5c-40bf-fa39-3cd5ae32ca64",
        "colab": {
          "base_uri": "https://localhost:8080/",
          "height": 130
        }
      },
      "source": [
        "merchant3 = feature3[['merchant_id','coupon_id', 'distance', 'date_received','date']]\n",
        "t = merchant3[['merchant_id']]\n",
        "t.drop_duplicates(inplace=True)"
      ],
      "execution_count": 0,
      "outputs": [
        {
          "output_type": "stream",
          "text": [
            "/usr/local/lib/python3.6/dist-packages/ipykernel_launcher.py:3: SettingWithCopyWarning: \n",
            "A value is trying to be set on a copy of a slice from a DataFrame\n",
            "\n",
            "See the caveats in the documentation: http://pandas.pydata.org/pandas-docs/stable/indexing.html#indexing-view-versus-copy\n",
            "  This is separate from the ipykernel package so we can avoid doing imports until\n"
          ],
          "name": "stderr"
        }
      ]
    },
    {
      "cell_type": "markdown",
      "metadata": {
        "id": "NeRec2xZ7Qr8",
        "colab_type": "text"
      },
      "source": [
        "- t1: 消费数量\n",
        "- t2: 总使用优惠券的消费数量\n",
        "- t3: 总使用优惠券数量"
      ]
    },
    {
      "cell_type": "code",
      "metadata": {
        "id": "nftHWiEq6s0A",
        "colab_type": "code",
        "colab": {}
      },
      "source": [
        "t1 = merchant3[merchant3.date.isna() == False][['merchant_id']]\n",
        "t1['total_sales'] = 1\n",
        "t1 = t1.groupby('merchant_id').agg('sum').reset_index()\n",
        "\n",
        "t2 = merchant3[(merchant3.date.isna() == False) & (merchant3.coupon_id.isna() == False)][['merchant_id']]\n",
        "t2['sales_use_coupon'] = 1\n",
        "t2 = t2.groupby('merchant_id').agg('sum').reset_index()\n",
        "\n",
        "t3 = merchant3[merchant3.coupon_id.isna() == False][['merchant_id']]\n",
        "t3['total_coupon'] = 1\n",
        "t3 = t3.groupby('merchant_id').agg('sum').reset_index()\n",
        "\n",
        "\n",
        "t4 = merchant3[(merchant3.date.isna() == False)&(merchant3.coupon_id.isna() == False)][['merchant_id','distance']]\n",
        "t4.replace('null',-1,inplace=True)\n",
        "t4.fillna(0, inplace = True)\n",
        "t4.distance = t4.distance.astype('int')\n",
        "t4.replace(-1, np.nan, inplace = True)\n",
        "\n",
        "t5 = t4.groupby('merchant_id').agg('min').reset_index()\n",
        "t5.rename(columns = {'distance': 'merchant_min_distance'}, inplace=True)\n",
        "\n",
        "\n",
        "\n",
        "t6 = t4.groupby('merchant_id').agg('max').reset_index()\n",
        "t6.rename(columns = {'distance': 'merchant_max_distance'}, inplace=True)\n",
        "\n",
        "\n",
        "t7 = t4.groupby('merchant_id').agg('mean').reset_index()\n",
        "t7.rename(columns = {'distance': 'merchant_mean_distance'}, inplace=True)\n",
        "\n",
        "\n",
        "t8 = t4.groupby('merchant_id').agg('median').reset_index()\n",
        "t8.rename(columns = {'distance': 'merchant_median_distance'}, inplace=True)\n",
        "\n",
        "\n"
      ],
      "execution_count": 0,
      "outputs": []
    },
    {
      "cell_type": "code",
      "metadata": {
        "id": "-_AVoqJK-uQ0",
        "colab_type": "code",
        "colab": {}
      },
      "source": [
        "merchant3_feature = pd.merge(t,t1,on='merchant_id',how='left')\n",
        "merchant3_feature = pd.merge(merchant3_feature,t2,on='merchant_id',how='left')\n",
        "merchant3_feature = pd.merge(merchant3_feature,t3,on='merchant_id',how='left')\n",
        "merchant3_feature = pd.merge(merchant3_feature,t5,on='merchant_id',how='left')\n",
        "merchant3_feature = pd.merge(merchant3_feature,t6,on='merchant_id',how='left')\n",
        "merchant3_feature = pd.merge(merchant3_feature,t7,on='merchant_id',how='left')\n",
        "merchant3_feature = pd.merge(merchant3_feature,t8,on='merchant_id',how='left')\n",
        "merchant3_feature.sales_use_coupon = merchant3_feature.sales_use_coupon.replace(np.nan,0) #fillna with 0\n",
        "merchant3_feature['merchant_coupon_transfer_rate'] = merchant3_feature.sales_use_coupon.astype('float') / merchant3_feature.total_coupon\n",
        "merchant3_feature['coupon_rate'] = merchant3_feature.sales_use_coupon.astype('float') / merchant3_feature.total_sales\n",
        "merchant3_feature.total_coupon = merchant3_feature.total_coupon.replace(np.nan,0) #fillna with 0\n"
      ],
      "execution_count": 0,
      "outputs": []
    },
    {
      "cell_type": "markdown",
      "metadata": {
        "id": "OL753fihEEna",
        "colab_type": "text"
      },
      "source": [
        "新增特征\n",
        "- merchant_coupon_transfer_rate ：使用coupon的消费数量/总coupon数量\n",
        "- coupon_rate ： 使用coupon的消费数量/总消费数量"
      ]
    },
    {
      "cell_type": "code",
      "metadata": {
        "id": "HbotudwXD4lI",
        "colab_type": "code",
        "colab": {}
      },
      "source": [
        "merchant3_feature.to_csv('/content/gdrive/My Drive/O2O_data/merchant_feature3.csv')"
      ],
      "execution_count": 0,
      "outputs": []
    },
    {
      "cell_type": "code",
      "metadata": {
        "id": "afT_C7aXEq7i",
        "colab_type": "code",
        "outputId": "3d85aea0-c938-42f7-ad6f-0e2bac8cadcf",
        "colab": {
          "base_uri": "https://localhost:8080/",
          "height": 36
        }
      },
      "source": [
        "merchant3_feature.shape"
      ],
      "execution_count": 0,
      "outputs": [
        {
          "output_type": "execute_result",
          "data": {
            "text/plain": [
              "(8194, 10)"
            ]
          },
          "metadata": {
            "tags": []
          },
          "execution_count": 51
        }
      ]
    },
    {
      "cell_type": "code",
      "metadata": {
        "id": "pTtl2uEXio8w",
        "colab_type": "code",
        "outputId": "c483cfad-51f8-4ec6-df27-96dec389057c",
        "colab": {
          "base_uri": "https://localhost:8080/",
          "height": 246
        }
      },
      "source": [
        "merchant3_feature.head()"
      ],
      "execution_count": 0,
      "outputs": [
        {
          "output_type": "execute_result",
          "data": {
            "text/html": [
              "<div>\n",
              "<style scoped>\n",
              "    .dataframe tbody tr th:only-of-type {\n",
              "        vertical-align: middle;\n",
              "    }\n",
              "\n",
              "    .dataframe tbody tr th {\n",
              "        vertical-align: top;\n",
              "    }\n",
              "\n",
              "    .dataframe thead th {\n",
              "        text-align: right;\n",
              "    }\n",
              "</style>\n",
              "<table border=\"1\" class=\"dataframe\">\n",
              "  <thead>\n",
              "    <tr style=\"text-align: right;\">\n",
              "      <th></th>\n",
              "      <th>merchant_id</th>\n",
              "      <th>total_sales</th>\n",
              "      <th>sales_use_coupon</th>\n",
              "      <th>total_coupon</th>\n",
              "      <th>merchant_min_distance</th>\n",
              "      <th>merchant_max_distance</th>\n",
              "      <th>merchant_mean_distance</th>\n",
              "      <th>merchant_median_distance</th>\n",
              "      <th>merchant_coupon_transfer_rate</th>\n",
              "      <th>coupon_rate</th>\n",
              "    </tr>\n",
              "  </thead>\n",
              "  <tbody>\n",
              "    <tr>\n",
              "      <th>0</th>\n",
              "      <td>2632</td>\n",
              "      <td>8</td>\n",
              "      <td>3.0</td>\n",
              "      <td>3.0</td>\n",
              "      <td>0.0</td>\n",
              "      <td>1.0</td>\n",
              "      <td>0.666667</td>\n",
              "      <td>1.0</td>\n",
              "      <td>1.0</td>\n",
              "      <td>0.375000</td>\n",
              "    </tr>\n",
              "    <tr>\n",
              "      <th>1</th>\n",
              "      <td>6459</td>\n",
              "      <td>20</td>\n",
              "      <td>0.0</td>\n",
              "      <td>0.0</td>\n",
              "      <td>NaN</td>\n",
              "      <td>NaN</td>\n",
              "      <td>NaN</td>\n",
              "      <td>NaN</td>\n",
              "      <td>NaN</td>\n",
              "      <td>0.000000</td>\n",
              "    </tr>\n",
              "    <tr>\n",
              "      <th>2</th>\n",
              "      <td>1579</td>\n",
              "      <td>44</td>\n",
              "      <td>1.0</td>\n",
              "      <td>1.0</td>\n",
              "      <td>1.0</td>\n",
              "      <td>1.0</td>\n",
              "      <td>1.000000</td>\n",
              "      <td>1.0</td>\n",
              "      <td>1.0</td>\n",
              "      <td>0.022727</td>\n",
              "    </tr>\n",
              "    <tr>\n",
              "      <th>3</th>\n",
              "      <td>8390</td>\n",
              "      <td>1726</td>\n",
              "      <td>214.0</td>\n",
              "      <td>214.0</td>\n",
              "      <td>0.0</td>\n",
              "      <td>10.0</td>\n",
              "      <td>0.616822</td>\n",
              "      <td>0.0</td>\n",
              "      <td>1.0</td>\n",
              "      <td>0.123986</td>\n",
              "    </tr>\n",
              "    <tr>\n",
              "      <th>4</th>\n",
              "      <td>3051</td>\n",
              "      <td>2</td>\n",
              "      <td>0.0</td>\n",
              "      <td>0.0</td>\n",
              "      <td>NaN</td>\n",
              "      <td>NaN</td>\n",
              "      <td>NaN</td>\n",
              "      <td>NaN</td>\n",
              "      <td>NaN</td>\n",
              "      <td>0.000000</td>\n",
              "    </tr>\n",
              "  </tbody>\n",
              "</table>\n",
              "</div>"
            ],
            "text/plain": [
              "   merchant_id  total_sales  ...  merchant_coupon_transfer_rate  coupon_rate\n",
              "0         2632            8  ...                            1.0     0.375000\n",
              "1         6459           20  ...                            NaN     0.000000\n",
              "2         1579           44  ...                            1.0     0.022727\n",
              "3         8390         1726  ...                            1.0     0.123986\n",
              "4         3051            2  ...                            NaN     0.000000\n",
              "\n",
              "[5 rows x 10 columns]"
            ]
          },
          "metadata": {
            "tags": []
          },
          "execution_count": 52
        }
      ]
    },
    {
      "cell_type": "code",
      "metadata": {
        "id": "wNjC2f74LaFo",
        "colab_type": "code",
        "colab": {}
      },
      "source": [
        "merchant3 = merchant3_feature"
      ],
      "execution_count": 0,
      "outputs": []
    },
    {
      "cell_type": "markdown",
      "metadata": {
        "id": "DDohf7BtEwLQ",
        "colab_type": "text"
      },
      "source": [
        "### user feature"
      ]
    },
    {
      "cell_type": "code",
      "metadata": {
        "id": "n8lerEK7OTat",
        "colab_type": "code",
        "colab": {}
      },
      "source": [
        "def get_user_date_datereceived_gap(s):\n",
        "  s = s.split(':')\n",
        "  try:\n",
        "    return (date(int(float(s[0][0:4])),int(float(s[0][4:6])),int(float(s[0][6:8]))) -date(int(float(s[1][0:4])),int(float(s[1][4:6])),int(float(s[1][6:8])))).days\n",
        "  except:\n",
        "    pass"
      ],
      "execution_count": 0,
      "outputs": []
    },
    {
      "cell_type": "code",
      "metadata": {
        "id": "y6Gnzic7ZVAW",
        "colab_type": "code",
        "outputId": "4cff51f2-ea92-4012-fe9c-bd65463eb362",
        "colab": {
          "base_uri": "https://localhost:8080/",
          "height": 130
        }
      },
      "source": [
        "user3 = feature3[['user_id', 'merchant_id', 'coupon_id', 'discount_rate', 'distance', 'date_received', 'date']]\n",
        "\n",
        "t = user3[['user_id']]\n",
        "t.drop_duplicates(inplace = True)\n",
        "\n",
        "t1 = user3[user3.date.isna() == False][['user_id', 'merchant_id']]\n",
        "t1.drop_duplicates(inplace = True)\n",
        "t1.merchant_id = 1\n",
        "t1 = t1.groupby('user_id').agg('sum').reset_index()\n",
        "t1.rename(columns = {'merchant_id':'count_merchant'}, inplace = True)\n",
        "\n",
        "\n",
        "t2 = user3[(user3.date.isna() == False)& (user3.coupon_id.isna() == False)][['user_id', 'distance']]\n",
        "t2.replace('null', -1, inplace=True)\n",
        "t2.fillna(-1, inplace=True)\n",
        "t2.distance = t2.distance.astype('int')\n",
        "t2.replace(-1, np.nan, inplace = True)\n",
        "\n",
        "t3 = t2.groupby('user_id').agg('min').reset_index()\n",
        "t3.rename(columns = {'distance':'user_min_distance'})\n",
        "\n",
        "t4 = t2.groupby('user_id').agg('max').reset_index()\n",
        "t4.rename(columns = {'distance':'user_max_distance'})\n",
        "\n",
        "t5 = t2.groupby('user_id').agg('mean').reset_index()\n",
        "t5.rename(columns = {'distance':'user_mean_distance'})\n",
        "\n",
        "t6 = t2.groupby('user_id').agg('median').reset_index()\n",
        "t6.rename(columns = {'distance':'user_median_distance'})\n",
        "\n",
        "\n",
        "t7 = user3[(user3.date.isna() == False) & (user3.coupon_id.isna() == False)][['user_id']]\n",
        "t7['buy_use_coupon'] = 1\n",
        "t7 = t7.groupby('user_id').agg('sum').reset_index()\n",
        "\n",
        "\n",
        "t8 = user3[(user3.date.isna() == False)][['user_id']]\n",
        "t8['buy_total'] = 1\n",
        "t8 = t8.groupby('user_id').agg('sum').reset_index()\n",
        "\n",
        "\n",
        "t9 = user3[user3.coupon_id.isna() == False][['user_id']]\n",
        "t9['coupon_received'] = 1\n",
        "t9 = t9.groupby('user_id').agg('sum').reset_index()\n",
        "\n"
      ],
      "execution_count": 0,
      "outputs": [
        {
          "output_type": "stream",
          "text": [
            "/usr/local/lib/python3.6/dist-packages/ipykernel_launcher.py:4: SettingWithCopyWarning: \n",
            "A value is trying to be set on a copy of a slice from a DataFrame\n",
            "\n",
            "See the caveats in the documentation: http://pandas.pydata.org/pandas-docs/stable/indexing.html#indexing-view-versus-copy\n",
            "  after removing the cwd from sys.path.\n"
          ],
          "name": "stderr"
        }
      ]
    },
    {
      "cell_type": "code",
      "metadata": {
        "id": "UG2f7AA-gTsA",
        "colab_type": "code",
        "colab": {}
      },
      "source": [
        "t10 = user3[(user3.date.isna() == False)&(user3.date_received.isna() == False)][['user_id','date_received','date']]\n",
        "t10['user_datereceived_gap'] = t10.date.astype('str') + ':' + t10.date_received.astype('str')\n",
        "t10['user_date_datereceived_gap'] = t10.user_datereceived_gap.apply(get_user_date_datereceived_gap)\n",
        "t10 = t10[['user_id', 'user_date_datereceived_gap']]\n"
      ],
      "execution_count": 0,
      "outputs": []
    },
    {
      "cell_type": "code",
      "metadata": {
        "id": "sbk50VKageCc",
        "colab_type": "code",
        "colab": {}
      },
      "source": [
        "t11 = t10.groupby('user_id').agg('mean').reset_index()\n",
        "t11.rename(columns={'user_date_datereceived_gap':'avg_user_date_datereceived_gap'},inplace=True)\n",
        "t12 = t10.groupby('user_id').agg('min').reset_index()\n",
        "t12.rename(columns={'user_date_datereceived_gap':'min_user_date_datereceived_gap'},inplace=True)\n",
        "t13 = t10.groupby('user_id').agg('max').reset_index()\n",
        "t13.rename(columns={'user_date_datereceived_gap':'max_user_date_datereceived_gap'},inplace=True)\n",
        "\n"
      ],
      "execution_count": 0,
      "outputs": []
    },
    {
      "cell_type": "markdown",
      "metadata": {
        "id": "bKOAH8jfXSx6",
        "colab_type": "text"
      },
      "source": [
        "- buy_use_coupon_rate ：用户所有消费中有使用优惠券的比例\n",
        "- user_coupon_transfer_rate ：用户所有优惠券的数量中使用优惠券的比例"
      ]
    },
    {
      "cell_type": "code",
      "metadata": {
        "id": "YbOsLRrdgkJ7",
        "colab_type": "code",
        "colab": {}
      },
      "source": [
        "user3_feature = pd.merge(t,t1,on='user_id',how='left')\n",
        "user3_feature = pd.merge(user3_feature,t3,on='user_id',how='left')\n",
        "user3_feature = pd.merge(user3_feature,t4,on='user_id',how='left')\n",
        "user3_feature = pd.merge(user3_feature,t5,on='user_id',how='left')\n",
        "user3_feature = pd.merge(user3_feature,t6,on='user_id',how='left')\n",
        "user3_feature = pd.merge(user3_feature,t7,on='user_id',how='left')\n",
        "user3_feature = pd.merge(user3_feature,t8,on='user_id',how='left')\n",
        "user3_feature = pd.merge(user3_feature,t9,on='user_id',how='left')\n",
        "user3_feature = pd.merge(user3_feature,t11,on='user_id',how='left')\n",
        "user3_feature = pd.merge(user3_feature,t12,on='user_id',how='left')\n",
        "user3_feature = pd.merge(user3_feature,t13,on='user_id',how='left')\n",
        "user3_feature.count_merchant = user3_feature.count_merchant.replace(np.nan,0)\n",
        "user3_feature.buy_use_coupon = user3_feature.buy_use_coupon.replace(np.nan,0)\n",
        "user3_feature['buy_use_coupon_rate'] = user3_feature.buy_use_coupon.astype('float') / user3_feature.buy_total.astype('float')\n",
        "user3_feature['user_coupon_transfer_rate'] = user3_feature.buy_use_coupon.astype('float') / user3_feature.coupon_received.astype('float')\n",
        "user3_feature.buy_total = user3_feature.buy_total.replace(np.nan,0)\n",
        "user3_feature.coupon_received = user3_feature.coupon_received.replace(np.nan,0)\n"
      ],
      "execution_count": 0,
      "outputs": []
    },
    {
      "cell_type": "code",
      "metadata": {
        "id": "TmXAxfMwXEcy",
        "colab_type": "code",
        "colab": {}
      },
      "source": [
        "user3_feature.to_csv('/content/gdrive/My Drive/O2O_data/user_feature3.csv')"
      ],
      "execution_count": 0,
      "outputs": []
    },
    {
      "cell_type": "code",
      "metadata": {
        "id": "KsxLT7pi4i80",
        "colab_type": "code",
        "colab": {}
      },
      "source": [
        "user3_feature"
      ],
      "execution_count": 0,
      "outputs": []
    },
    {
      "cell_type": "code",
      "metadata": {
        "id": "ENxFwF13LnS4",
        "colab_type": "code",
        "colab": {}
      },
      "source": [
        "user3 = user3_feature"
      ],
      "execution_count": 0,
      "outputs": []
    },
    {
      "cell_type": "markdown",
      "metadata": {
        "id": "EO3e8RcEgmb2",
        "colab_type": "text"
      },
      "source": [
        "##### ignore this"
      ]
    },
    {
      "cell_type": "code",
      "metadata": {
        "id": "METIaYgUPEfz",
        "colab_type": "code",
        "outputId": "2ac30033-683e-46b6-e9f0-c3e7bae0cd1e",
        "colab": {
          "base_uri": "https://localhost:8080/",
          "height": 620
        }
      },
      "source": [
        "user3 = feature3[['user_id', 'merchant_id', 'coupon_id', 'discount_rate', 'distance', 'date_received', 'date']]\n",
        "\n",
        "t = user3[['user_id']]\n",
        "t.drop_duplicates(inplace = True)\n",
        "\n",
        "t1 = user3[user3.date != 'null'][['user_id', 'merchant_id']]\n",
        "t1.drop_duplicates(inplace = True)\n",
        "t1.merchant_id = 1\n",
        "t1 = t1.groupby('user_id').agg('sum').reset_index()\n",
        "t1.rename(columns = {'merchant_id':'count_merchant'}, inplace = True)\n",
        "\n",
        "\n",
        "t2 = user3[(user3.date != 'null')& (user3.coupon_id != 'null')][['user_id', 'distance']]\n",
        "t2.replace('null', -1, inplace=True)\n",
        "t2.fillna(-1, inplace=True)\n",
        "t2.distance = t2.distance.astype('int')\n",
        "t2.replace(-1, np.nan, inplace = True)\n",
        "\n",
        "t3 = t2.groupby('user_id').agg('min').reset_index()\n",
        "t3.rename(columns = {'distance':'user_min_distance'})\n",
        "\n",
        "t4 = t2.groupby('user_id').agg('max').reset_index()\n",
        "t4.rename(columns = {'distance':'user_max_distance'})\n",
        "\n",
        "t5 = t2.groupby('user_id').agg('mean').reset_index()\n",
        "t5.rename(columns = {'distance':'user_mean_distance'})\n",
        "\n",
        "t6 = t2.groupby('user_id').agg('median').reset_index()\n",
        "t6.rename(columns = {'distance':'user_median_distance'})\n",
        "\n",
        "\n",
        "t7 = user3[(user3.date != 'null') & (user3.coupon_id != 'null')][['user_id']]\n",
        "t7['buy_use_coupon'] = 1\n",
        "t7 = t7.groupby('user_id').agg('sum').reset_index()\n",
        "\n",
        "\n",
        "t8 = user3[(user3.date != 'null')][['user_id']]\n",
        "t8['buy_total'] = 1\n",
        "t8 = t8.groupby('user_id').agg('sum').reset_index()\n",
        "\n",
        "\n",
        "t9 = user3[user3.coupon_id != 'null'][['user_id']]\n",
        "t9['coupon_received'] = 1\n",
        "t9 = t9.groupby('user_id').agg('sum').reset_index()\n",
        "\n",
        "\n",
        "t10 = user3[(user3.date != 'null')&(user3.date_received != 'null')][['user_id','date_received','date']]\n",
        "t10['user_datereceived_gap'] = t10.date + ':'+ t10.date_received\n",
        "t10.user_date_datereceived_gap = t10.uer_datereceived_gap.apply(get_user_date_datereceived_gap)\n",
        "t10 = t10[['user_id', 'user_date_datereceived_gap']]\n",
        "\n",
        "t11 = t10.groupby('user_id').agg('mean').reset_index()\n",
        "t11.rename(columns = {'user_date_datereceived_gap':'avg_user_date_datereceived_gap'}, inplace=True)\n",
        "t12 = t10.groupby('user_id').agg('min').reset_index()\n",
        "t12.rename(columns = {'user_date_datereceived_gap':'min_user_date_datereceived_gap'}, inplace=True)\n",
        "t13 = t10.groupby('user_Id').agg('max').reset_index()\n",
        "t13.rename(columns = {'user_date_datereceived_gap':'max_user_date_datereceived_gap'}, inplace=True)\n",
        "\n",
        "\n",
        "user3_feature = pd.merge(t,t1,on='user_id',how='left')\n",
        "user3_feature = pd.merge(user3_feature,t3,on='user_id',how='left')\n",
        "user3_feature = pd.merge(user3_feature,t4,on='user_id',how='left')\n",
        "user3_feature = pd.merge(user3_feature,t5,on='user_id',how='left')\n",
        "user3_feature = pd.merge(user3_feature,t6,on='user_id',how='left')\n",
        "user3_feature = pd.merge(user3_feature,t7,on='user_id',how='left')\n",
        "user3_feature = pd.merge(user3_feature,t8,on='user_id',how='left')\n",
        "user3_feature = pd.merge(user3_feature,t9,on='user_id',how='left')\n",
        "user3_feature = pd.merge(user3_feature,t11,on='user_id',how='left')\n",
        "user3_feature = pd.merge(user3_feature,t12,on='user_id',how='left')\n",
        "user3_feature = pd.merge(user3_feature,t13,on='user_id',how='left')\n",
        "user3_feature.count_merchant = user3_feature.count_merchant.replace(np.nan,0)\n",
        "user3_feature.buy_use_coupon = user3_feature.buy_use_coupon.replace(np.nan,0)\n",
        "user3_feature.coupon_received = user3_feature.coupon_received.replace(np.nan,0)\n",
        "user3_feature.buy_total = user3_feature.buy_total.replace(np.nan,0)\n",
        "\n"
      ],
      "execution_count": 0,
      "outputs": [
        {
          "output_type": "stream",
          "text": [
            "/usr/local/lib/python3.6/dist-packages/ipykernel_launcher.py:4: SettingWithCopyWarning: \n",
            "A value is trying to be set on a copy of a slice from a DataFrame\n",
            "\n",
            "See the caveats in the documentation: http://pandas.pydata.org/pandas-docs/stable/indexing.html#indexing-view-versus-copy\n",
            "  after removing the cwd from sys.path.\n",
            "/usr/local/lib/python3.6/dist-packages/pandas/core/ops.py:1649: FutureWarning: elementwise comparison failed; returning scalar instead, but in the future will perform elementwise comparison\n",
            "  result = method(y)\n"
          ],
          "name": "stderr"
        },
        {
          "output_type": "error",
          "ename": "TypeError",
          "evalue": "ignored",
          "traceback": [
            "\u001b[0;31m---------------------------------------------------------------------------\u001b[0m",
            "\u001b[0;31mTypeError\u001b[0m                                 Traceback (most recent call last)",
            "\u001b[0;32m/usr/local/lib/python3.6/dist-packages/pandas/core/ops.py\u001b[0m in \u001b[0;36mna_op\u001b[0;34m(x, y)\u001b[0m\n\u001b[1;32m   1504\u001b[0m         \u001b[0;32mtry\u001b[0m\u001b[0;34m:\u001b[0m\u001b[0;34m\u001b[0m\u001b[0;34m\u001b[0m\u001b[0m\n\u001b[0;32m-> 1505\u001b[0;31m             \u001b[0mresult\u001b[0m \u001b[0;34m=\u001b[0m \u001b[0mexpressions\u001b[0m\u001b[0;34m.\u001b[0m\u001b[0mevaluate\u001b[0m\u001b[0;34m(\u001b[0m\u001b[0mop\u001b[0m\u001b[0;34m,\u001b[0m \u001b[0mstr_rep\u001b[0m\u001b[0;34m,\u001b[0m \u001b[0mx\u001b[0m\u001b[0;34m,\u001b[0m \u001b[0my\u001b[0m\u001b[0;34m,\u001b[0m \u001b[0;34m**\u001b[0m\u001b[0meval_kwargs\u001b[0m\u001b[0;34m)\u001b[0m\u001b[0;34m\u001b[0m\u001b[0;34m\u001b[0m\u001b[0m\n\u001b[0m\u001b[1;32m   1506\u001b[0m         \u001b[0;32mexcept\u001b[0m \u001b[0mTypeError\u001b[0m\u001b[0;34m:\u001b[0m\u001b[0;34m\u001b[0m\u001b[0;34m\u001b[0m\u001b[0m\n",
            "\u001b[0;32m/usr/local/lib/python3.6/dist-packages/pandas/core/computation/expressions.py\u001b[0m in \u001b[0;36mevaluate\u001b[0;34m(op, op_str, a, b, use_numexpr, **eval_kwargs)\u001b[0m\n\u001b[1;32m    207\u001b[0m     \u001b[0;32mif\u001b[0m \u001b[0muse_numexpr\u001b[0m\u001b[0;34m:\u001b[0m\u001b[0;34m\u001b[0m\u001b[0;34m\u001b[0m\u001b[0m\n\u001b[0;32m--> 208\u001b[0;31m         \u001b[0;32mreturn\u001b[0m \u001b[0m_evaluate\u001b[0m\u001b[0;34m(\u001b[0m\u001b[0mop\u001b[0m\u001b[0;34m,\u001b[0m \u001b[0mop_str\u001b[0m\u001b[0;34m,\u001b[0m \u001b[0ma\u001b[0m\u001b[0;34m,\u001b[0m \u001b[0mb\u001b[0m\u001b[0;34m,\u001b[0m \u001b[0;34m**\u001b[0m\u001b[0meval_kwargs\u001b[0m\u001b[0;34m)\u001b[0m\u001b[0;34m\u001b[0m\u001b[0;34m\u001b[0m\u001b[0m\n\u001b[0m\u001b[1;32m    209\u001b[0m     \u001b[0;32mreturn\u001b[0m \u001b[0m_evaluate_standard\u001b[0m\u001b[0;34m(\u001b[0m\u001b[0mop\u001b[0m\u001b[0;34m,\u001b[0m \u001b[0mop_str\u001b[0m\u001b[0;34m,\u001b[0m \u001b[0ma\u001b[0m\u001b[0;34m,\u001b[0m \u001b[0mb\u001b[0m\u001b[0;34m)\u001b[0m\u001b[0;34m\u001b[0m\u001b[0;34m\u001b[0m\u001b[0m\n",
            "\u001b[0;32m/usr/local/lib/python3.6/dist-packages/pandas/core/computation/expressions.py\u001b[0m in \u001b[0;36m_evaluate_numexpr\u001b[0;34m(op, op_str, a, b, truediv, reversed, **eval_kwargs)\u001b[0m\n\u001b[1;32m    122\u001b[0m     \u001b[0;32mif\u001b[0m \u001b[0mresult\u001b[0m \u001b[0;32mis\u001b[0m \u001b[0;32mNone\u001b[0m\u001b[0;34m:\u001b[0m\u001b[0;34m\u001b[0m\u001b[0;34m\u001b[0m\u001b[0m\n\u001b[0;32m--> 123\u001b[0;31m         \u001b[0mresult\u001b[0m \u001b[0;34m=\u001b[0m \u001b[0m_evaluate_standard\u001b[0m\u001b[0;34m(\u001b[0m\u001b[0mop\u001b[0m\u001b[0;34m,\u001b[0m \u001b[0mop_str\u001b[0m\u001b[0;34m,\u001b[0m \u001b[0ma\u001b[0m\u001b[0;34m,\u001b[0m \u001b[0mb\u001b[0m\u001b[0;34m)\u001b[0m\u001b[0;34m\u001b[0m\u001b[0;34m\u001b[0m\u001b[0m\n\u001b[0m\u001b[1;32m    124\u001b[0m \u001b[0;34m\u001b[0m\u001b[0m\n",
            "\u001b[0;32m/usr/local/lib/python3.6/dist-packages/pandas/core/computation/expressions.py\u001b[0m in \u001b[0;36m_evaluate_standard\u001b[0;34m(op, op_str, a, b, **eval_kwargs)\u001b[0m\n\u001b[1;32m     67\u001b[0m     \u001b[0;32mwith\u001b[0m \u001b[0mnp\u001b[0m\u001b[0;34m.\u001b[0m\u001b[0merrstate\u001b[0m\u001b[0;34m(\u001b[0m\u001b[0mall\u001b[0m\u001b[0;34m=\u001b[0m\u001b[0;34m'ignore'\u001b[0m\u001b[0;34m)\u001b[0m\u001b[0;34m:\u001b[0m\u001b[0;34m\u001b[0m\u001b[0;34m\u001b[0m\u001b[0m\n\u001b[0;32m---> 68\u001b[0;31m         \u001b[0;32mreturn\u001b[0m \u001b[0mop\u001b[0m\u001b[0;34m(\u001b[0m\u001b[0ma\u001b[0m\u001b[0;34m,\u001b[0m \u001b[0mb\u001b[0m\u001b[0;34m)\u001b[0m\u001b[0;34m\u001b[0m\u001b[0;34m\u001b[0m\u001b[0m\n\u001b[0m\u001b[1;32m     69\u001b[0m \u001b[0;34m\u001b[0m\u001b[0m\n",
            "\u001b[0;31mTypeError\u001b[0m: ufunc 'add' did not contain a loop with signature matching types dtype('<U32') dtype('<U32') dtype('<U32')",
            "\nDuring handling of the above exception, another exception occurred:\n",
            "\u001b[0;31mTypeError\u001b[0m                                 Traceback (most recent call last)",
            "\u001b[0;32m<ipython-input-192-4010126e76a6>\u001b[0m in \u001b[0;36m<module>\u001b[0;34m()\u001b[0m\n\u001b[1;32m     46\u001b[0m \u001b[0;34m\u001b[0m\u001b[0m\n\u001b[1;32m     47\u001b[0m \u001b[0mt10\u001b[0m \u001b[0;34m=\u001b[0m \u001b[0muser3\u001b[0m\u001b[0;34m[\u001b[0m\u001b[0;34m(\u001b[0m\u001b[0muser3\u001b[0m\u001b[0;34m.\u001b[0m\u001b[0mdate\u001b[0m \u001b[0;34m!=\u001b[0m \u001b[0;34m'null'\u001b[0m\u001b[0;34m)\u001b[0m\u001b[0;34m&\u001b[0m\u001b[0;34m(\u001b[0m\u001b[0muser3\u001b[0m\u001b[0;34m.\u001b[0m\u001b[0mdate_received\u001b[0m \u001b[0;34m!=\u001b[0m \u001b[0;34m'null'\u001b[0m\u001b[0;34m)\u001b[0m\u001b[0;34m]\u001b[0m\u001b[0;34m[\u001b[0m\u001b[0;34m[\u001b[0m\u001b[0;34m'user_id'\u001b[0m\u001b[0;34m,\u001b[0m\u001b[0;34m'date_received'\u001b[0m\u001b[0;34m,\u001b[0m\u001b[0;34m'date'\u001b[0m\u001b[0;34m]\u001b[0m\u001b[0;34m]\u001b[0m\u001b[0;34m\u001b[0m\u001b[0;34m\u001b[0m\u001b[0m\n\u001b[0;32m---> 48\u001b[0;31m \u001b[0mt10\u001b[0m\u001b[0;34m[\u001b[0m\u001b[0;34m'user_datereceived_gap'\u001b[0m\u001b[0;34m]\u001b[0m \u001b[0;34m=\u001b[0m \u001b[0mt10\u001b[0m\u001b[0;34m.\u001b[0m\u001b[0mdate\u001b[0m \u001b[0;34m+\u001b[0m \u001b[0;34m':'\u001b[0m\u001b[0;34m+\u001b[0m \u001b[0mt10\u001b[0m\u001b[0;34m.\u001b[0m\u001b[0mdate_received\u001b[0m\u001b[0;34m\u001b[0m\u001b[0;34m\u001b[0m\u001b[0m\n\u001b[0m\u001b[1;32m     49\u001b[0m \u001b[0mt10\u001b[0m\u001b[0;34m.\u001b[0m\u001b[0muser_date_datereceived_gap\u001b[0m \u001b[0;34m=\u001b[0m \u001b[0mt10\u001b[0m\u001b[0;34m.\u001b[0m\u001b[0muer_datereceived_gap\u001b[0m\u001b[0;34m.\u001b[0m\u001b[0mapply\u001b[0m\u001b[0;34m(\u001b[0m\u001b[0mget_user_date_datereceived_gap\u001b[0m\u001b[0;34m)\u001b[0m\u001b[0;34m\u001b[0m\u001b[0;34m\u001b[0m\u001b[0m\n\u001b[1;32m     50\u001b[0m \u001b[0mt10\u001b[0m \u001b[0;34m=\u001b[0m \u001b[0mt10\u001b[0m\u001b[0;34m[\u001b[0m\u001b[0;34m[\u001b[0m\u001b[0;34m'user_id'\u001b[0m\u001b[0;34m,\u001b[0m \u001b[0;34m'user_date_datereceived_gap'\u001b[0m\u001b[0;34m]\u001b[0m\u001b[0;34m]\u001b[0m\u001b[0;34m\u001b[0m\u001b[0;34m\u001b[0m\u001b[0m\n",
            "\u001b[0;32m/usr/local/lib/python3.6/dist-packages/pandas/core/ops.py\u001b[0m in \u001b[0;36mwrapper\u001b[0;34m(left, right)\u001b[0m\n\u001b[1;32m   1581\u001b[0m             \u001b[0mrvalues\u001b[0m \u001b[0;34m=\u001b[0m \u001b[0mrvalues\u001b[0m\u001b[0;34m.\u001b[0m\u001b[0mvalues\u001b[0m\u001b[0;34m\u001b[0m\u001b[0;34m\u001b[0m\u001b[0m\n\u001b[1;32m   1582\u001b[0m \u001b[0;34m\u001b[0m\u001b[0m\n\u001b[0;32m-> 1583\u001b[0;31m         \u001b[0mresult\u001b[0m \u001b[0;34m=\u001b[0m \u001b[0msafe_na_op\u001b[0m\u001b[0;34m(\u001b[0m\u001b[0mlvalues\u001b[0m\u001b[0;34m,\u001b[0m \u001b[0mrvalues\u001b[0m\u001b[0;34m)\u001b[0m\u001b[0;34m\u001b[0m\u001b[0;34m\u001b[0m\u001b[0m\n\u001b[0m\u001b[1;32m   1584\u001b[0m         return construct_result(left, result,\n\u001b[1;32m   1585\u001b[0m                                 index=left.index, name=res_name, dtype=None)\n",
            "\u001b[0;32m/usr/local/lib/python3.6/dist-packages/pandas/core/ops.py\u001b[0m in \u001b[0;36msafe_na_op\u001b[0;34m(lvalues, rvalues)\u001b[0m\n\u001b[1;32m   1527\u001b[0m         \u001b[0;32mtry\u001b[0m\u001b[0;34m:\u001b[0m\u001b[0;34m\u001b[0m\u001b[0;34m\u001b[0m\u001b[0m\n\u001b[1;32m   1528\u001b[0m             \u001b[0;32mwith\u001b[0m \u001b[0mnp\u001b[0m\u001b[0;34m.\u001b[0m\u001b[0merrstate\u001b[0m\u001b[0;34m(\u001b[0m\u001b[0mall\u001b[0m\u001b[0;34m=\u001b[0m\u001b[0;34m'ignore'\u001b[0m\u001b[0;34m)\u001b[0m\u001b[0;34m:\u001b[0m\u001b[0;34m\u001b[0m\u001b[0;34m\u001b[0m\u001b[0m\n\u001b[0;32m-> 1529\u001b[0;31m                 \u001b[0;32mreturn\u001b[0m \u001b[0mna_op\u001b[0m\u001b[0;34m(\u001b[0m\u001b[0mlvalues\u001b[0m\u001b[0;34m,\u001b[0m \u001b[0mrvalues\u001b[0m\u001b[0;34m)\u001b[0m\u001b[0;34m\u001b[0m\u001b[0;34m\u001b[0m\u001b[0m\n\u001b[0m\u001b[1;32m   1530\u001b[0m         \u001b[0;32mexcept\u001b[0m \u001b[0mException\u001b[0m\u001b[0;34m:\u001b[0m\u001b[0;34m\u001b[0m\u001b[0;34m\u001b[0m\u001b[0m\n\u001b[1;32m   1531\u001b[0m             \u001b[0;32mif\u001b[0m \u001b[0mis_object_dtype\u001b[0m\u001b[0;34m(\u001b[0m\u001b[0mlvalues\u001b[0m\u001b[0;34m)\u001b[0m\u001b[0;34m:\u001b[0m\u001b[0;34m\u001b[0m\u001b[0;34m\u001b[0m\u001b[0m\n",
            "\u001b[0;32m/usr/local/lib/python3.6/dist-packages/pandas/core/ops.py\u001b[0m in \u001b[0;36mna_op\u001b[0;34m(x, y)\u001b[0m\n\u001b[1;32m   1505\u001b[0m             \u001b[0mresult\u001b[0m \u001b[0;34m=\u001b[0m \u001b[0mexpressions\u001b[0m\u001b[0;34m.\u001b[0m\u001b[0mevaluate\u001b[0m\u001b[0;34m(\u001b[0m\u001b[0mop\u001b[0m\u001b[0;34m,\u001b[0m \u001b[0mstr_rep\u001b[0m\u001b[0;34m,\u001b[0m \u001b[0mx\u001b[0m\u001b[0;34m,\u001b[0m \u001b[0my\u001b[0m\u001b[0;34m,\u001b[0m \u001b[0;34m**\u001b[0m\u001b[0meval_kwargs\u001b[0m\u001b[0;34m)\u001b[0m\u001b[0;34m\u001b[0m\u001b[0;34m\u001b[0m\u001b[0m\n\u001b[1;32m   1506\u001b[0m         \u001b[0;32mexcept\u001b[0m \u001b[0mTypeError\u001b[0m\u001b[0;34m:\u001b[0m\u001b[0;34m\u001b[0m\u001b[0;34m\u001b[0m\u001b[0m\n\u001b[0;32m-> 1507\u001b[0;31m             \u001b[0mresult\u001b[0m \u001b[0;34m=\u001b[0m \u001b[0mmasked_arith_op\u001b[0m\u001b[0;34m(\u001b[0m\u001b[0mx\u001b[0m\u001b[0;34m,\u001b[0m \u001b[0my\u001b[0m\u001b[0;34m,\u001b[0m \u001b[0mop\u001b[0m\u001b[0;34m)\u001b[0m\u001b[0;34m\u001b[0m\u001b[0;34m\u001b[0m\u001b[0m\n\u001b[0m\u001b[1;32m   1508\u001b[0m \u001b[0;34m\u001b[0m\u001b[0m\n\u001b[1;32m   1509\u001b[0m         \u001b[0mresult\u001b[0m \u001b[0;34m=\u001b[0m \u001b[0mmissing\u001b[0m\u001b[0;34m.\u001b[0m\u001b[0mfill_zeros\u001b[0m\u001b[0;34m(\u001b[0m\u001b[0mresult\u001b[0m\u001b[0;34m,\u001b[0m \u001b[0mx\u001b[0m\u001b[0;34m,\u001b[0m \u001b[0my\u001b[0m\u001b[0;34m,\u001b[0m \u001b[0mop_name\u001b[0m\u001b[0;34m,\u001b[0m \u001b[0mfill_zeros\u001b[0m\u001b[0;34m)\u001b[0m\u001b[0;34m\u001b[0m\u001b[0;34m\u001b[0m\u001b[0m\n",
            "\u001b[0;32m/usr/local/lib/python3.6/dist-packages/pandas/core/ops.py\u001b[0m in \u001b[0;36mmasked_arith_op\u001b[0;34m(x, y, op)\u001b[0m\n\u001b[1;32m   1024\u001b[0m         \u001b[0;32mif\u001b[0m \u001b[0mmask\u001b[0m\u001b[0;34m.\u001b[0m\u001b[0many\u001b[0m\u001b[0;34m(\u001b[0m\u001b[0;34m)\u001b[0m\u001b[0;34m:\u001b[0m\u001b[0;34m\u001b[0m\u001b[0;34m\u001b[0m\u001b[0m\n\u001b[1;32m   1025\u001b[0m             \u001b[0;32mwith\u001b[0m \u001b[0mnp\u001b[0m\u001b[0;34m.\u001b[0m\u001b[0merrstate\u001b[0m\u001b[0;34m(\u001b[0m\u001b[0mall\u001b[0m\u001b[0;34m=\u001b[0m\u001b[0;34m'ignore'\u001b[0m\u001b[0;34m)\u001b[0m\u001b[0;34m:\u001b[0m\u001b[0;34m\u001b[0m\u001b[0;34m\u001b[0m\u001b[0m\n\u001b[0;32m-> 1026\u001b[0;31m                 \u001b[0mresult\u001b[0m\u001b[0;34m[\u001b[0m\u001b[0mmask\u001b[0m\u001b[0;34m]\u001b[0m \u001b[0;34m=\u001b[0m \u001b[0mop\u001b[0m\u001b[0;34m(\u001b[0m\u001b[0mxrav\u001b[0m\u001b[0;34m[\u001b[0m\u001b[0mmask\u001b[0m\u001b[0;34m]\u001b[0m\u001b[0;34m,\u001b[0m \u001b[0my\u001b[0m\u001b[0;34m)\u001b[0m\u001b[0;34m\u001b[0m\u001b[0;34m\u001b[0m\u001b[0m\n\u001b[0m\u001b[1;32m   1027\u001b[0m \u001b[0;34m\u001b[0m\u001b[0m\n\u001b[1;32m   1028\u001b[0m     \u001b[0mresult\u001b[0m\u001b[0;34m,\u001b[0m \u001b[0mchanged\u001b[0m \u001b[0;34m=\u001b[0m \u001b[0mmaybe_upcast_putmask\u001b[0m\u001b[0;34m(\u001b[0m\u001b[0mresult\u001b[0m\u001b[0;34m,\u001b[0m \u001b[0;34m~\u001b[0m\u001b[0mmask\u001b[0m\u001b[0;34m,\u001b[0m \u001b[0mnp\u001b[0m\u001b[0;34m.\u001b[0m\u001b[0mnan\u001b[0m\u001b[0;34m)\u001b[0m\u001b[0;34m\u001b[0m\u001b[0;34m\u001b[0m\u001b[0m\n",
            "\u001b[0;31mTypeError\u001b[0m: ufunc 'add' did not contain a loop with signature matching types dtype('<U32') dtype('<U32') dtype('<U32')"
          ]
        }
      ]
    },
    {
      "cell_type": "markdown",
      "metadata": {
        "id": "GmJzu8iK7csP",
        "colab_type": "text"
      },
      "source": [
        "### user merchant"
      ]
    },
    {
      "cell_type": "code",
      "metadata": {
        "id": "9ysxRm8N7aVP",
        "colab_type": "code",
        "outputId": "4511ce45-93ac-4f55-dd83-d0c1ece7e866",
        "colab": {
          "base_uri": "https://localhost:8080/",
          "height": 224
        }
      },
      "source": [
        "all_user_merchant = feature3[['user_id','merchant_id']]\n",
        "all_user_merchant.drop_duplicates(inplace = True)\n",
        "\n",
        "t = feature3[['user_id','merchant_id','date']]\n",
        "t = t[t.date.isna()==False][['user_id', 'merchant_id']]\n",
        "t['user_merchant_buy_total'] = 1\n",
        "t = t.groupby(['user_id','merchant_id']).agg('sum').reset_index()\n",
        "t.drop_duplicates(inplace=True)\n",
        "\n",
        "\n",
        "t1 = feature3[['user_id', 'merchant_id', 'coupon_id']]\n",
        "t1 = t1[t1.coupon_id.isna()==False][['user_id', 'merchant_id']]\n",
        "t1['user_merchant_received'] = 1\n",
        "t1 = t1.groupby(['user_id','merchant_id']).agg('sum').reset_index()\n",
        "t1.drop_duplicates(inplace = True)\n",
        "\n",
        "t2 = feature3[['user_id', 'merchant_id', 'date', 'date_received']]\n",
        "t2 = t2[(t2.date.isna()==False) & (t2.date_received.isna()==False)][['user_id', 'merchant_id']]\n",
        "t2['user_merchant_buy_use_coupon'] = 1\n",
        "t2 = t2.groupby(['user_id', 'merchant_id']).agg('sum').reset_index()\n",
        "t2.drop_duplicates(inplace=True)\n",
        "\n",
        "\n",
        "t3 = feature3[['user_id', 'merchant_id']]\n",
        "t3['user_merchant_any'] = 1\n",
        "t3 = t3.groupby(['user_id', 'merchant_id']).agg('sum').reset_index()\n",
        "t3.drop_duplicates(inplace = True)\n",
        "\n",
        "\n",
        "t4 = feature3[['user_id', 'merchant_id', 'date', 'coupon_id']]\n",
        "t4 = t4[(t4.date.isna()==False)&(t4.coupon_id.isna()==True)][['user_id', 'merchant_id']]\n",
        "t4['user_merchant_buy_common'] = 1\n",
        "t4 = t4.groupby(['user_id','merchant_id']).agg('sum').reset_index()\n",
        "t4.drop_duplicates(inplace = True)\n",
        "\n"
      ],
      "execution_count": 0,
      "outputs": [
        {
          "output_type": "stream",
          "text": [
            "/usr/local/lib/python3.6/dist-packages/ipykernel_launcher.py:2: SettingWithCopyWarning: \n",
            "A value is trying to be set on a copy of a slice from a DataFrame\n",
            "\n",
            "See the caveats in the documentation: http://pandas.pydata.org/pandas-docs/stable/indexing.html#indexing-view-versus-copy\n",
            "  \n",
            "/usr/local/lib/python3.6/dist-packages/ipykernel_launcher.py:25: SettingWithCopyWarning: \n",
            "A value is trying to be set on a copy of a slice from a DataFrame.\n",
            "Try using .loc[row_indexer,col_indexer] = value instead\n",
            "\n",
            "See the caveats in the documentation: http://pandas.pydata.org/pandas-docs/stable/indexing.html#indexing-view-versus-copy\n"
          ],
          "name": "stderr"
        }
      ]
    },
    {
      "cell_type": "markdown",
      "metadata": {
        "id": "_ASGZN4XE8g7",
        "colab_type": "text"
      },
      "source": [
        "- user_merchant_coupon_transfer_rate : 使用coupon消费的数量/所有收到的coupon数量\n",
        "- user_merchant_coupon_buy_rate ： 使用coupon消费的数量/所有对商户消费数量\n",
        "- user_merchant_rate ： 用户对商户的下单次数/用户和商户的互动次数（可能是有消费和只是有优惠券）\n",
        "- user_merchant_common_buy_rate：不用优惠券购买的比例"
      ]
    },
    {
      "cell_type": "code",
      "metadata": {
        "id": "vKJLajjTE1Ir",
        "colab_type": "code",
        "colab": {}
      },
      "source": [
        "user_merchant3 = pd.merge(all_user_merchant,t,on=['user_id','merchant_id'],how='left')\n",
        "user_merchant3 = pd.merge(user_merchant3,t1,on=['user_id','merchant_id'],how='left')\n",
        "user_merchant3 = pd.merge(user_merchant3,t2,on=['user_id','merchant_id'],how='left')\n",
        "user_merchant3 = pd.merge(user_merchant3,t3,on=['user_id','merchant_id'],how='left')\n",
        "user_merchant3 = pd.merge(user_merchant3,t4,on=['user_id','merchant_id'],how='left')\n",
        "user_merchant3.user_merchant_buy_use_coupon = user_merchant3.user_merchant_buy_use_coupon.replace(np.nan,0)\n",
        "user_merchant3.user_merchant_buy_common = user_merchant3.user_merchant_buy_common.replace(np.nan,0)\n",
        "user_merchant3['user_merchant_coupon_transfer_rate'] = user_merchant3.user_merchant_buy_use_coupon.astype('float') / user_merchant3.user_merchant_received.astype('float')\n",
        "user_merchant3['user_merchant_coupon_buy_rate'] = user_merchant3.user_merchant_buy_use_coupon.astype('float') / user_merchant3.user_merchant_buy_total.astype('float')\n",
        "user_merchant3['user_merchant_rate'] = user_merchant3.user_merchant_buy_total.astype('float') / user_merchant3.user_merchant_any.astype('float')\n",
        "user_merchant3['user_merchant_common_buy_rate'] = user_merchant3.user_merchant_buy_common.astype('float') / user_merchant3.user_merchant_buy_total.astype('float')"
      ],
      "execution_count": 0,
      "outputs": []
    },
    {
      "cell_type": "code",
      "metadata": {
        "id": "bbLoA6BeHSjm",
        "colab_type": "code",
        "colab": {}
      },
      "source": [
        "user_merchant3.to_csv('/content/gdrive/My Drive/O2O_data/user_merchant_feature3.csv')"
      ],
      "execution_count": 0,
      "outputs": []
    },
    {
      "cell_type": "code",
      "metadata": {
        "id": "og8zsKIPLqDI",
        "colab_type": "code",
        "colab": {}
      },
      "source": [
        ""
      ],
      "execution_count": 0,
      "outputs": []
    },
    {
      "cell_type": "markdown",
      "metadata": {
        "id": "QeiYNUn1KNV9",
        "colab_type": "text"
      },
      "source": [
        "## 准备数据集"
      ]
    },
    {
      "cell_type": "code",
      "metadata": {
        "id": "7flZu0cbKQZk",
        "colab_type": "code",
        "colab": {}
      },
      "source": [
        "def get_label(s):\n",
        "    s = s.split(':')\n",
        "    if s[0]=='null':\n",
        "        return 0\n",
        "    elif (date(int(s[0][0:4]),int(s[0][4:6]),int(s[0][6:8]))-date(int(s[1][0:4]),int(s[1][4:6]),int(s[1][6:8]))).days<=15:\n",
        "        return 1\n",
        "    else:\n",
        "        return -1"
      ],
      "execution_count": 0,
      "outputs": []
    },
    {
      "cell_type": "code",
      "metadata": {
        "id": "TU9rGUrWK_ke",
        "colab_type": "code",
        "colab": {}
      },
      "source": [
        "dataset3 = pd.merge(coupon3,merchant3,on='merchant_id',how='left')\n",
        "dataset3 = pd.merge(dataset3,user3,on='user_id',how='left')\n",
        "dataset3 = pd.merge(dataset3,user_merchant3,on=['user_id','merchant_id'],how='left')\n",
        "dataset3 = pd.merge(dataset3,other3,on=['user_id','coupon_id','date_received'],how='left')\n",
        "dataset3.drop_duplicates(inplace=True)"
      ],
      "execution_count": 0,
      "outputs": []
    },
    {
      "cell_type": "code",
      "metadata": {
        "id": "z7FT9lNhL_Jq",
        "colab_type": "code",
        "outputId": "be8fbe8a-b944-4032-9d2b-9943490027a3",
        "colab": {
          "base_uri": "https://localhost:8080/",
          "height": 36
        }
      },
      "source": [
        "dataset3.shape"
      ],
      "execution_count": 0,
      "outputs": [
        {
          "output_type": "execute_result",
          "data": {
            "text/plain": [
              "(112803, 52)"
            ]
          },
          "metadata": {
            "tags": []
          },
          "execution_count": 82
        }
      ]
    },
    {
      "cell_type": "code",
      "metadata": {
        "id": "xnRAI1WzMB48",
        "colab_type": "code",
        "colab": {}
      },
      "source": [
        "datasets = dataset3.fillna(0)"
      ],
      "execution_count": 0,
      "outputs": []
    },
    {
      "cell_type": "code",
      "metadata": {
        "id": "-MoJTdA_MlhP",
        "colab_type": "code",
        "colab": {}
      },
      "source": [
        "datasets.info()"
      ],
      "execution_count": 0,
      "outputs": []
    },
    {
      "cell_type": "code",
      "metadata": {
        "id": "ihpKx2GEMpuv",
        "colab_type": "code",
        "colab": {}
      },
      "source": [
        "datasets['is_weekend'] = datasets.day_of_week.apply(lambda x: 1 if x in (6,7) else 0)"
      ],
      "execution_count": 0,
      "outputs": []
    },
    {
      "cell_type": "code",
      "metadata": {
        "id": "Uu9c5_xHNHEc",
        "colab_type": "code",
        "colab": {}
      },
      "source": [
        "weekday_dummies = pd.get_dummies(datasets.day_of_week)\n",
        "weekday_dummies.columns = ['weekday'+str(i+1) for i in range(weekday_dummies.shape[1])]"
      ],
      "execution_count": 0,
      "outputs": []
    },
    {
      "cell_type": "code",
      "metadata": {
        "id": "-L6CVTB5Nogj",
        "colab_type": "code",
        "colab": {}
      },
      "source": [
        "datasets = pd.concat([datasets, weekday_dummies], axis=1)\n",
        "datasets.drop(['merchant_id', 'day_of_week','coupon_count'],axis=1, inplace = True)"
      ],
      "execution_count": 0,
      "outputs": []
    },
    {
      "cell_type": "code",
      "metadata": {
        "id": "4DqpSMniOVTq",
        "colab_type": "code",
        "colab": {}
      },
      "source": [
        "datasets = datasets.replace('null', 0)"
      ],
      "execution_count": 0,
      "outputs": []
    },
    {
      "cell_type": "code",
      "metadata": {
        "id": "MiddR_auOi5g",
        "colab_type": "code",
        "colab": {}
      },
      "source": [
        "datasets.to_csv('/content/gdrive/My Drive/O2O_data/dataset.csv')"
      ],
      "execution_count": 0,
      "outputs": []
    },
    {
      "cell_type": "code",
      "metadata": {
        "id": "e-UtBrhnOupi",
        "colab_type": "code",
        "outputId": "f8b0557f-fdb8-4201-93e6-266705887252",
        "colab": {
          "base_uri": "https://localhost:8080/",
          "height": 36
        }
      },
      "source": [
        "datasets.shape"
      ],
      "execution_count": 0,
      "outputs": [
        {
          "output_type": "execute_result",
          "data": {
            "text/plain": [
              "(112803, 57)"
            ]
          },
          "metadata": {
            "tags": []
          },
          "execution_count": 96
        }
      ]
    },
    {
      "cell_type": "markdown",
      "metadata": {
        "id": "WTFf3imAkc5x",
        "colab_type": "text"
      },
      "source": [
        "## for dataset2 不知为何join出来没有数据，先做其他的特征处理在dataset3的\n",
        "\n",
        "same as the what we do for dataset 3\n"
      ]
    },
    {
      "cell_type": "code",
      "metadata": {
        "id": "F_oPeFRPkars",
        "colab_type": "code",
        "outputId": "07c8a02c-82d4-490a-d417-2f6aba8cf127",
        "colab": {
          "base_uri": "https://localhost:8080/",
          "height": 373
        }
      },
      "source": [
        "t = dataset2[['user_id']]\n",
        "t['this_month_user_receive_all_coupon_count'] = 1\n",
        "t = t.groupby('user_id').agg('sum').reset_index()\n",
        "\n",
        "t1 = dataset2[['user_id','coupon_id']]\n",
        "t1['this_month_user_receive_same_coupon_count'] = 1\n",
        "t1 = t1.groupby(['user_id','coupon_id']).agg('sum').reset_index()\n",
        "\n",
        "t2 = dataset2[['user_id','coupon_id', 'date_received']]\n",
        "t2.date_received = t2.date_received.astype('str')\n",
        "t2 = t2.groupby(['user_id','coupon_id'])['date_received'].agg(lambda x: ':'.join(x)).reset_index() #把多个收到日期用\":\"连起来\n",
        "t2['receive_number'] = t2.date_received.apply(lambda s : len(s.split(':'))) #把收到的优惠券日期变成列表，并计算列表长度\n",
        "t2 = t2[t2.receive_number>1] #直接用判断公式做筛选\n",
        "t2['max_date_received'] = t2.date_received.apply(lambda x: max(x.split(':')))\n",
        "t2['min_date_received'] = t2.date_received.apply(lambda x: min(x.split(':')))\n",
        "t2 = t2[['user_id', 'coupon_id', 'max_date_received','min_date_received']]\n",
        "\n"
      ],
      "execution_count": 0,
      "outputs": [
        {
          "output_type": "stream",
          "text": [
            "/usr/local/lib/python3.6/dist-packages/ipykernel_launcher.py:2: SettingWithCopyWarning: \n",
            "A value is trying to be set on a copy of a slice from a DataFrame.\n",
            "Try using .loc[row_indexer,col_indexer] = value instead\n",
            "\n",
            "See the caveats in the documentation: http://pandas.pydata.org/pandas-docs/stable/indexing.html#indexing-view-versus-copy\n",
            "  \n",
            "/usr/local/lib/python3.6/dist-packages/ipykernel_launcher.py:6: SettingWithCopyWarning: \n",
            "A value is trying to be set on a copy of a slice from a DataFrame.\n",
            "Try using .loc[row_indexer,col_indexer] = value instead\n",
            "\n",
            "See the caveats in the documentation: http://pandas.pydata.org/pandas-docs/stable/indexing.html#indexing-view-versus-copy\n",
            "  \n",
            "/usr/local/lib/python3.6/dist-packages/pandas/core/generic.py:5096: SettingWithCopyWarning: \n",
            "A value is trying to be set on a copy of a slice from a DataFrame.\n",
            "Try using .loc[row_indexer,col_indexer] = value instead\n",
            "\n",
            "See the caveats in the documentation: http://pandas.pydata.org/pandas-docs/stable/indexing.html#indexing-view-versus-copy\n",
            "  self[name] = value\n"
          ],
          "name": "stderr"
        }
      ]
    },
    {
      "cell_type": "markdown",
      "metadata": {
        "id": "NFR_7cw1tHyS",
        "colab_type": "text"
      },
      "source": [
        "这边的日期格式要注意，原本是float要换成int或str才能做 - 减法"
      ]
    },
    {
      "cell_type": "code",
      "metadata": {
        "id": "bfMfo93vpIDf",
        "colab_type": "code",
        "colab": {}
      },
      "source": [
        "t3 = dataset3[['user_id', 'coupon_id','date_received']]\n",
        "t3 = pd.merge(t3, t2, on=['user_id', 'coupon_id'], how='left')\n",
        "t3['this_month_user_receive_same_coupon_lastone'] = t3.max_date_received.fillna(0).astype('float64').astype('int64') - t3.date_received.fillna(0).astype('int64')\n",
        "t3['this_month_user_receive_same_coupon_firstone'] = t3.date_received.astype('int64') - t3.min_date_received.fillna(0).astype('float64').astype('int64')"
      ],
      "execution_count": 0,
      "outputs": []
    },
    {
      "cell_type": "code",
      "metadata": {
        "id": "45UUpvFOtYM4",
        "colab_type": "code",
        "colab": {}
      },
      "source": [
        "def is_firstlastone(x):\n",
        "    if x==0:\n",
        "        return 1\n",
        "    elif x>0:\n",
        "        return 0\n",
        "    else:\n",
        "        return -1 #those only receive once\n",
        "        \n",
        "t3.this_month_user_receive_same_coupon_lastone = t3.this_month_user_receive_same_coupon_lastone.apply(is_firstlastone)\n",
        "t3.this_month_user_receive_same_coupon_firstone = t3.this_month_user_receive_same_coupon_firstone.apply(is_firstlastone)\n",
        "t3 = t3[['user_id','coupon_id','date_received','this_month_user_receive_same_coupon_lastone','this_month_user_receive_same_coupon_firstone']]\n"
      ],
      "execution_count": 0,
      "outputs": []
    },
    {
      "cell_type": "code",
      "metadata": {
        "id": "hnCD8wXQtdNs",
        "colab_type": "code",
        "outputId": "3d004efe-c086-43da-ab62-e618f992baac",
        "colab": {
          "base_uri": "https://localhost:8080/",
          "height": 373
        }
      },
      "source": [
        "t4 = dataset2[['user_id','date_received']]\n",
        "t4['this_day_user_receive_all_coupon_count'] = 1\n",
        "t4 = t4.groupby(['user_id','date_received']).agg('sum').reset_index()\n",
        "\n",
        "t5 = dataset2[['user_id','coupon_id','date_received']]\n",
        "t5['this_day_user_receive_same_coupon_count'] = 1\n",
        "t5 = t5.groupby(['user_id','coupon_id','date_received']).agg('sum').reset_index()\n",
        "\n",
        "t6 = dataset2[['user_id','coupon_id','date_received']]\n",
        "t6.date_received = t6.date_received.astype('str')\n",
        "t6 = t6.groupby(['user_id','coupon_id'])['date_received'].agg(lambda x:':'.join(x)).reset_index()\n",
        "t6.rename(columns={'date_received':'dates'},inplace=True)\n",
        "\n",
        "def get_day_gap_before(s):\n",
        "    date_received,dates = s.split('-')\n",
        "    dates = dates.split(':')\n",
        "    gaps = []\n",
        "    for d in dates:\n",
        "        this_gap = (date(int(date_received[0:4]),int(date_received[4:6]),int(date_received[6:8]))-date(int(d[0:4]),int(d[4:6]),int(d[6:8]))).days\n",
        "        if this_gap>0:\n",
        "            gaps.append(this_gap)\n",
        "    if len(gaps)==0:\n",
        "        return -1\n",
        "    else:\n",
        "        return min(gaps)\n",
        "        \n",
        "def get_day_gap_after(s):\n",
        "    date_received,dates = s.split('-')\n",
        "    dates = dates.split(':')\n",
        "    gaps = []\n",
        "    for d in dates:\n",
        "        this_gap = (date(int(d[0:4]),int(d[4:6]),int(d[6:8]))-date(int(date_received[0:4]),int(date_received[4:6]),int(date_received[6:8]))).days\n",
        "        if this_gap>0:\n",
        "            gaps.append(this_gap)\n",
        "    if len(gaps)==0:\n",
        "        return -1\n",
        "    else:\n",
        "        return min(gaps)\n",
        "    \n",
        "\n",
        "t7 = dataset2[['user_id','coupon_id','date_received']]\n",
        "t7 = pd.merge(t7,t6,on=['user_id','coupon_id'],how='left')\n",
        "t7['date_received_date'] = t7.date_received.astype('str') + '-' + t7.dates\n",
        "t7['day_gap_before'] = t7.date_received_date.apply(get_day_gap_before)\n",
        "t7['day_gap_after'] = t7.date_received_date.apply(get_day_gap_after)\n",
        "t7 = t7[['user_id','coupon_id','date_received','day_gap_before','day_gap_after']]\n",
        "\n"
      ],
      "execution_count": 0,
      "outputs": [
        {
          "output_type": "stream",
          "text": [
            "/usr/local/lib/python3.6/dist-packages/ipykernel_launcher.py:2: SettingWithCopyWarning: \n",
            "A value is trying to be set on a copy of a slice from a DataFrame.\n",
            "Try using .loc[row_indexer,col_indexer] = value instead\n",
            "\n",
            "See the caveats in the documentation: http://pandas.pydata.org/pandas-docs/stable/indexing.html#indexing-view-versus-copy\n",
            "  \n",
            "/usr/local/lib/python3.6/dist-packages/ipykernel_launcher.py:6: SettingWithCopyWarning: \n",
            "A value is trying to be set on a copy of a slice from a DataFrame.\n",
            "Try using .loc[row_indexer,col_indexer] = value instead\n",
            "\n",
            "See the caveats in the documentation: http://pandas.pydata.org/pandas-docs/stable/indexing.html#indexing-view-versus-copy\n",
            "  \n",
            "/usr/local/lib/python3.6/dist-packages/pandas/core/generic.py:5096: SettingWithCopyWarning: \n",
            "A value is trying to be set on a copy of a slice from a DataFrame.\n",
            "Try using .loc[row_indexer,col_indexer] = value instead\n",
            "\n",
            "See the caveats in the documentation: http://pandas.pydata.org/pandas-docs/stable/indexing.html#indexing-view-versus-copy\n",
            "  self[name] = value\n"
          ],
          "name": "stderr"
        }
      ]
    },
    {
      "cell_type": "code",
      "metadata": {
        "id": "VZsK0bE6ty3f",
        "colab_type": "code",
        "colab": {}
      },
      "source": [
        "other_feature2 = pd.merge(t1,t,on='user_id')\n",
        "other_feature2 = pd.merge(other_feature2,t3,on=['user_id','coupon_id'])\n",
        "other_feature2 = pd.merge(other_feature2,t4,on=['user_id','date_received'])\n",
        "#other_feature2 = pd.merge(other_feature2,t5,on=['user_id','coupon_id','date_received'])\n",
        "#other_feature2 = pd.merge(other_feature2,t7,on=['user_id','coupon_id','date_received'])\n",
        "#other_feature2.to_csv('data/other_feature2.csv',index=None)\n"
      ],
      "execution_count": 0,
      "outputs": []
    },
    {
      "cell_type": "code",
      "metadata": {
        "id": "MZTrci1Ot1rs",
        "colab_type": "code",
        "outputId": "3c0f1726-2ee9-4f65-d6eb-9a0de218c2df",
        "colab": {
          "base_uri": "https://localhost:8080/",
          "height": 36
        }
      },
      "source": [
        "other_feature2.shape"
      ],
      "execution_count": 0,
      "outputs": [
        {
          "output_type": "execute_result",
          "data": {
            "text/plain": [
              "(0, 8)"
            ]
          },
          "metadata": {
            "tags": []
          },
          "execution_count": 132
        }
      ]
    },
    {
      "cell_type": "code",
      "metadata": {
        "id": "BJlihgM-t5zB",
        "colab_type": "code",
        "colab": {}
      },
      "source": [
        "a1 = pd.merge(t1,t,on='user_id')"
      ],
      "execution_count": 0,
      "outputs": []
    },
    {
      "cell_type": "code",
      "metadata": {
        "id": "8gu-2S2Uu-Am",
        "colab_type": "code",
        "outputId": "bcb50fac-8112-4b04-946c-93481f75765c",
        "colab": {
          "base_uri": "https://localhost:8080/",
          "height": 36
        }
      },
      "source": [
        "pd.merge(a1,t3,on=['user_id','coupon_id']).shape"
      ],
      "execution_count": 0,
      "outputs": [
        {
          "output_type": "execute_result",
          "data": {
            "text/plain": [
              "(3751, 7)"
            ]
          },
          "metadata": {
            "tags": []
          },
          "execution_count": 138
        }
      ]
    },
    {
      "cell_type": "code",
      "metadata": {
        "id": "NYIg6NDPvD-h",
        "colab_type": "code",
        "colab": {}
      },
      "source": [
        ""
      ],
      "execution_count": 0,
      "outputs": []
    },
    {
      "cell_type": "code",
      "metadata": {
        "id": "wlXuBPFT6oOk",
        "colab_type": "code",
        "colab": {}
      },
      "source": [
        ""
      ],
      "execution_count": 0,
      "outputs": []
    }
  ]
}